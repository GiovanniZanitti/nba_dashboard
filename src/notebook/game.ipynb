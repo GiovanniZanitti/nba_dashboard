{
 "cells": [
  {
   "cell_type": "code",
   "execution_count": 8,
   "metadata": {},
   "outputs": [],
   "source": [
    "from nba_api.live.nba.endpoints import boxscore\n",
    "import pandas as pd"
   ]
  },
  {
   "cell_type": "code",
   "execution_count": 3,
   "metadata": {},
   "outputs": [
    {
     "data": {
      "text/plain": [
       "dict_keys(['gameId', 'gameTimeLocal', 'gameTimeUTC', 'gameTimeHome', 'gameTimeAway', 'gameEt', 'duration', 'gameCode', 'gameStatusText', 'gameStatus', 'regulationPeriods', 'period', 'gameClock', 'attendance', 'sellout', 'arena', 'officials', 'homeTeam', 'awayTeam'])"
      ]
     },
     "execution_count": 3,
     "metadata": {},
     "output_type": "execute_result"
    }
   ],
   "source": [
    "game = boxscore.BoxScore('0022400074').get_dict()['game']\n",
    "game.keys()"
   ]
  },
  {
   "cell_type": "code",
   "execution_count": 25,
   "metadata": {},
   "outputs": [
    {
     "data": {
      "text/html": [
       "<div>\n",
       "<style scoped>\n",
       "    .dataframe tbody tr th:only-of-type {\n",
       "        vertical-align: middle;\n",
       "    }\n",
       "\n",
       "    .dataframe tbody tr th {\n",
       "        vertical-align: top;\n",
       "    }\n",
       "\n",
       "    .dataframe thead th {\n",
       "        text-align: right;\n",
       "    }\n",
       "</style>\n",
       "<table border=\"1\" class=\"dataframe\">\n",
       "  <thead>\n",
       "    <tr style=\"text-align: right;\">\n",
       "      <th></th>\n",
       "      <th>name</th>\n",
       "      <th>nameI</th>\n",
       "      <th>position</th>\n",
       "      <th>starter</th>\n",
       "      <th>assists</th>\n",
       "      <th>blocks</th>\n",
       "      <th>blocksReceived</th>\n",
       "      <th>fieldGoalsAttempted</th>\n",
       "      <th>fieldGoalsMade</th>\n",
       "      <th>fieldGoalsPercentage</th>\n",
       "      <th>...</th>\n",
       "      <th>reboundsOffensive</th>\n",
       "      <th>reboundsTotal</th>\n",
       "      <th>steals</th>\n",
       "      <th>threePointersAttempted</th>\n",
       "      <th>threePointersMade</th>\n",
       "      <th>threePointersPercentage</th>\n",
       "      <th>turnovers</th>\n",
       "      <th>twoPointersAttempted</th>\n",
       "      <th>twoPointersMade</th>\n",
       "      <th>twoPointersPercentage</th>\n",
       "    </tr>\n",
       "  </thead>\n",
       "  <tbody>\n",
       "    <tr>\n",
       "      <th>0</th>\n",
       "      <td>Klay Thompson</td>\n",
       "      <td>K. Thompson</td>\n",
       "      <td>SF</td>\n",
       "      <td>1</td>\n",
       "      <td>1</td>\n",
       "      <td>0</td>\n",
       "      <td>0</td>\n",
       "      <td>13</td>\n",
       "      <td>7</td>\n",
       "      <td>0.538462</td>\n",
       "      <td>...</td>\n",
       "      <td>3</td>\n",
       "      <td>7</td>\n",
       "      <td>3</td>\n",
       "      <td>10</td>\n",
       "      <td>6</td>\n",
       "      <td>0.600000</td>\n",
       "      <td>0</td>\n",
       "      <td>3</td>\n",
       "      <td>1</td>\n",
       "      <td>0.333333</td>\n",
       "    </tr>\n",
       "    <tr>\n",
       "      <th>1</th>\n",
       "      <td>P.J. Washington</td>\n",
       "      <td>P. Washington</td>\n",
       "      <td>PF</td>\n",
       "      <td>1</td>\n",
       "      <td>2</td>\n",
       "      <td>0</td>\n",
       "      <td>0</td>\n",
       "      <td>11</td>\n",
       "      <td>4</td>\n",
       "      <td>0.363636</td>\n",
       "      <td>...</td>\n",
       "      <td>2</td>\n",
       "      <td>5</td>\n",
       "      <td>1</td>\n",
       "      <td>7</td>\n",
       "      <td>2</td>\n",
       "      <td>0.285714</td>\n",
       "      <td>0</td>\n",
       "      <td>4</td>\n",
       "      <td>2</td>\n",
       "      <td>0.500000</td>\n",
       "    </tr>\n",
       "    <tr>\n",
       "      <th>2</th>\n",
       "      <td>Daniel Gafford</td>\n",
       "      <td>D. Gafford</td>\n",
       "      <td>C</td>\n",
       "      <td>1</td>\n",
       "      <td>2</td>\n",
       "      <td>1</td>\n",
       "      <td>0</td>\n",
       "      <td>6</td>\n",
       "      <td>3</td>\n",
       "      <td>0.500000</td>\n",
       "      <td>...</td>\n",
       "      <td>4</td>\n",
       "      <td>6</td>\n",
       "      <td>1</td>\n",
       "      <td>0</td>\n",
       "      <td>0</td>\n",
       "      <td>0.000000</td>\n",
       "      <td>1</td>\n",
       "      <td>6</td>\n",
       "      <td>3</td>\n",
       "      <td>0.500000</td>\n",
       "    </tr>\n",
       "    <tr>\n",
       "      <th>3</th>\n",
       "      <td>Kyrie Irving</td>\n",
       "      <td>K. Irving</td>\n",
       "      <td>SG</td>\n",
       "      <td>1</td>\n",
       "      <td>2</td>\n",
       "      <td>1</td>\n",
       "      <td>0</td>\n",
       "      <td>17</td>\n",
       "      <td>6</td>\n",
       "      <td>0.352941</td>\n",
       "      <td>...</td>\n",
       "      <td>1</td>\n",
       "      <td>3</td>\n",
       "      <td>2</td>\n",
       "      <td>7</td>\n",
       "      <td>3</td>\n",
       "      <td>0.428571</td>\n",
       "      <td>0</td>\n",
       "      <td>10</td>\n",
       "      <td>3</td>\n",
       "      <td>0.300000</td>\n",
       "    </tr>\n",
       "    <tr>\n",
       "      <th>4</th>\n",
       "      <td>Luka Dončić</td>\n",
       "      <td>L. Dončić</td>\n",
       "      <td>PG</td>\n",
       "      <td>1</td>\n",
       "      <td>8</td>\n",
       "      <td>1</td>\n",
       "      <td>1</td>\n",
       "      <td>25</td>\n",
       "      <td>9</td>\n",
       "      <td>0.360000</td>\n",
       "      <td>...</td>\n",
       "      <td>1</td>\n",
       "      <td>10</td>\n",
       "      <td>1</td>\n",
       "      <td>11</td>\n",
       "      <td>4</td>\n",
       "      <td>0.363636</td>\n",
       "      <td>4</td>\n",
       "      <td>14</td>\n",
       "      <td>5</td>\n",
       "      <td>0.357143</td>\n",
       "    </tr>\n",
       "    <tr>\n",
       "      <th>5</th>\n",
       "      <td>Quentin Grimes</td>\n",
       "      <td>Q. Grimes</td>\n",
       "      <td>B</td>\n",
       "      <td>0</td>\n",
       "      <td>0</td>\n",
       "      <td>0</td>\n",
       "      <td>1</td>\n",
       "      <td>6</td>\n",
       "      <td>1</td>\n",
       "      <td>0.166667</td>\n",
       "      <td>...</td>\n",
       "      <td>0</td>\n",
       "      <td>0</td>\n",
       "      <td>0</td>\n",
       "      <td>1</td>\n",
       "      <td>0</td>\n",
       "      <td>0.000000</td>\n",
       "      <td>0</td>\n",
       "      <td>5</td>\n",
       "      <td>1</td>\n",
       "      <td>0.200000</td>\n",
       "    </tr>\n",
       "    <tr>\n",
       "      <th>6</th>\n",
       "      <td>Dereck Lively II</td>\n",
       "      <td>D. Lively II</td>\n",
       "      <td>B</td>\n",
       "      <td>0</td>\n",
       "      <td>6</td>\n",
       "      <td>0</td>\n",
       "      <td>1</td>\n",
       "      <td>8</td>\n",
       "      <td>6</td>\n",
       "      <td>0.750000</td>\n",
       "      <td>...</td>\n",
       "      <td>4</td>\n",
       "      <td>11</td>\n",
       "      <td>1</td>\n",
       "      <td>0</td>\n",
       "      <td>0</td>\n",
       "      <td>0.000000</td>\n",
       "      <td>2</td>\n",
       "      <td>8</td>\n",
       "      <td>6</td>\n",
       "      <td>0.750000</td>\n",
       "    </tr>\n",
       "    <tr>\n",
       "      <th>7</th>\n",
       "      <td>Naji Marshall</td>\n",
       "      <td>N. Marshall</td>\n",
       "      <td>B</td>\n",
       "      <td>0</td>\n",
       "      <td>3</td>\n",
       "      <td>0</td>\n",
       "      <td>1</td>\n",
       "      <td>6</td>\n",
       "      <td>1</td>\n",
       "      <td>0.166667</td>\n",
       "      <td>...</td>\n",
       "      <td>0</td>\n",
       "      <td>1</td>\n",
       "      <td>0</td>\n",
       "      <td>2</td>\n",
       "      <td>0</td>\n",
       "      <td>0.000000</td>\n",
       "      <td>0</td>\n",
       "      <td>4</td>\n",
       "      <td>1</td>\n",
       "      <td>0.250000</td>\n",
       "    </tr>\n",
       "    <tr>\n",
       "      <th>8</th>\n",
       "      <td>Maxi Kleber</td>\n",
       "      <td>M. Kleber</td>\n",
       "      <td>B</td>\n",
       "      <td>0</td>\n",
       "      <td>1</td>\n",
       "      <td>1</td>\n",
       "      <td>1</td>\n",
       "      <td>3</td>\n",
       "      <td>1</td>\n",
       "      <td>0.333333</td>\n",
       "      <td>...</td>\n",
       "      <td>0</td>\n",
       "      <td>4</td>\n",
       "      <td>0</td>\n",
       "      <td>1</td>\n",
       "      <td>1</td>\n",
       "      <td>1.000000</td>\n",
       "      <td>0</td>\n",
       "      <td>2</td>\n",
       "      <td>0</td>\n",
       "      <td>0.000000</td>\n",
       "    </tr>\n",
       "    <tr>\n",
       "      <th>9</th>\n",
       "      <td>Jaden Hardy</td>\n",
       "      <td>J. Hardy</td>\n",
       "      <td>B</td>\n",
       "      <td>0</td>\n",
       "      <td>2</td>\n",
       "      <td>1</td>\n",
       "      <td>0</td>\n",
       "      <td>6</td>\n",
       "      <td>3</td>\n",
       "      <td>0.500000</td>\n",
       "      <td>...</td>\n",
       "      <td>1</td>\n",
       "      <td>1</td>\n",
       "      <td>0</td>\n",
       "      <td>5</td>\n",
       "      <td>3</td>\n",
       "      <td>0.600000</td>\n",
       "      <td>2</td>\n",
       "      <td>1</td>\n",
       "      <td>0</td>\n",
       "      <td>0.000000</td>\n",
       "    </tr>\n",
       "    <tr>\n",
       "      <th>10</th>\n",
       "      <td>Spencer Dinwiddie</td>\n",
       "      <td>S. Dinwiddie</td>\n",
       "      <td>B</td>\n",
       "      <td>0</td>\n",
       "      <td>0</td>\n",
       "      <td>0</td>\n",
       "      <td>0</td>\n",
       "      <td>0</td>\n",
       "      <td>0</td>\n",
       "      <td>0.000000</td>\n",
       "      <td>...</td>\n",
       "      <td>0</td>\n",
       "      <td>1</td>\n",
       "      <td>0</td>\n",
       "      <td>0</td>\n",
       "      <td>0</td>\n",
       "      <td>0.000000</td>\n",
       "      <td>0</td>\n",
       "      <td>0</td>\n",
       "      <td>0</td>\n",
       "      <td>0.000000</td>\n",
       "    </tr>\n",
       "    <tr>\n",
       "      <th>11</th>\n",
       "      <td>Dwight Powell</td>\n",
       "      <td>D. Powell</td>\n",
       "      <td>B</td>\n",
       "      <td>0</td>\n",
       "      <td>0</td>\n",
       "      <td>0</td>\n",
       "      <td>0</td>\n",
       "      <td>1</td>\n",
       "      <td>1</td>\n",
       "      <td>1.000000</td>\n",
       "      <td>...</td>\n",
       "      <td>1</td>\n",
       "      <td>1</td>\n",
       "      <td>0</td>\n",
       "      <td>0</td>\n",
       "      <td>0</td>\n",
       "      <td>0.000000</td>\n",
       "      <td>0</td>\n",
       "      <td>1</td>\n",
       "      <td>1</td>\n",
       "      <td>1.000000</td>\n",
       "    </tr>\n",
       "    <tr>\n",
       "      <th>12</th>\n",
       "      <td>Olivier-Maxence Prosper</td>\n",
       "      <td>O. Prosper</td>\n",
       "      <td>B</td>\n",
       "      <td>0</td>\n",
       "      <td>0</td>\n",
       "      <td>0</td>\n",
       "      <td>0</td>\n",
       "      <td>0</td>\n",
       "      <td>0</td>\n",
       "      <td>0.000000</td>\n",
       "      <td>...</td>\n",
       "      <td>0</td>\n",
       "      <td>0</td>\n",
       "      <td>0</td>\n",
       "      <td>0</td>\n",
       "      <td>0</td>\n",
       "      <td>0.000000</td>\n",
       "      <td>0</td>\n",
       "      <td>0</td>\n",
       "      <td>0</td>\n",
       "      <td>0.000000</td>\n",
       "    </tr>\n",
       "    <tr>\n",
       "      <th>13</th>\n",
       "      <td>Jazian Gortman</td>\n",
       "      <td>J. Gortman</td>\n",
       "      <td>B</td>\n",
       "      <td>0</td>\n",
       "      <td>0</td>\n",
       "      <td>0</td>\n",
       "      <td>0</td>\n",
       "      <td>0</td>\n",
       "      <td>0</td>\n",
       "      <td>0.000000</td>\n",
       "      <td>...</td>\n",
       "      <td>0</td>\n",
       "      <td>0</td>\n",
       "      <td>0</td>\n",
       "      <td>0</td>\n",
       "      <td>0</td>\n",
       "      <td>0.000000</td>\n",
       "      <td>0</td>\n",
       "      <td>0</td>\n",
       "      <td>0</td>\n",
       "      <td>0.000000</td>\n",
       "    </tr>\n",
       "    <tr>\n",
       "      <th>14</th>\n",
       "      <td>Markieff Morris</td>\n",
       "      <td>M. Morris</td>\n",
       "      <td>B</td>\n",
       "      <td>0</td>\n",
       "      <td>0</td>\n",
       "      <td>0</td>\n",
       "      <td>0</td>\n",
       "      <td>0</td>\n",
       "      <td>0</td>\n",
       "      <td>0.000000</td>\n",
       "      <td>...</td>\n",
       "      <td>0</td>\n",
       "      <td>0</td>\n",
       "      <td>0</td>\n",
       "      <td>0</td>\n",
       "      <td>0</td>\n",
       "      <td>0.000000</td>\n",
       "      <td>0</td>\n",
       "      <td>0</td>\n",
       "      <td>0</td>\n",
       "      <td>0.000000</td>\n",
       "    </tr>\n",
       "    <tr>\n",
       "      <th>15</th>\n",
       "      <td>Kessler Edwards</td>\n",
       "      <td>K. Edwards</td>\n",
       "      <td>B</td>\n",
       "      <td>0</td>\n",
       "      <td>0</td>\n",
       "      <td>0</td>\n",
       "      <td>0</td>\n",
       "      <td>0</td>\n",
       "      <td>0</td>\n",
       "      <td>0.000000</td>\n",
       "      <td>...</td>\n",
       "      <td>0</td>\n",
       "      <td>0</td>\n",
       "      <td>0</td>\n",
       "      <td>0</td>\n",
       "      <td>0</td>\n",
       "      <td>0.000000</td>\n",
       "      <td>0</td>\n",
       "      <td>0</td>\n",
       "      <td>0</td>\n",
       "      <td>0.000000</td>\n",
       "    </tr>\n",
       "    <tr>\n",
       "      <th>16</th>\n",
       "      <td>Danté Exum</td>\n",
       "      <td>D. Exum</td>\n",
       "      <td>B</td>\n",
       "      <td>0</td>\n",
       "      <td>0</td>\n",
       "      <td>0</td>\n",
       "      <td>0</td>\n",
       "      <td>0</td>\n",
       "      <td>0</td>\n",
       "      <td>0.000000</td>\n",
       "      <td>...</td>\n",
       "      <td>0</td>\n",
       "      <td>0</td>\n",
       "      <td>0</td>\n",
       "      <td>0</td>\n",
       "      <td>0</td>\n",
       "      <td>0.000000</td>\n",
       "      <td>0</td>\n",
       "      <td>0</td>\n",
       "      <td>0</td>\n",
       "      <td>0.000000</td>\n",
       "    </tr>\n",
       "    <tr>\n",
       "      <th>17</th>\n",
       "      <td>Brandon Williams</td>\n",
       "      <td>B. Williams</td>\n",
       "      <td>B</td>\n",
       "      <td>0</td>\n",
       "      <td>0</td>\n",
       "      <td>0</td>\n",
       "      <td>0</td>\n",
       "      <td>0</td>\n",
       "      <td>0</td>\n",
       "      <td>0.000000</td>\n",
       "      <td>...</td>\n",
       "      <td>0</td>\n",
       "      <td>0</td>\n",
       "      <td>0</td>\n",
       "      <td>0</td>\n",
       "      <td>0</td>\n",
       "      <td>0.000000</td>\n",
       "      <td>0</td>\n",
       "      <td>0</td>\n",
       "      <td>0</td>\n",
       "      <td>0.000000</td>\n",
       "    </tr>\n",
       "  </tbody>\n",
       "</table>\n",
       "<p>18 rows × 37 columns</p>\n",
       "</div>"
      ],
      "text/plain": [
       "                       name          nameI position starter  assists  blocks  \\\n",
       "0             Klay Thompson    K. Thompson       SF       1        1       0   \n",
       "1           P.J. Washington  P. Washington       PF       1        2       0   \n",
       "2            Daniel Gafford     D. Gafford        C       1        2       1   \n",
       "3              Kyrie Irving      K. Irving       SG       1        2       1   \n",
       "4               Luka Dončić      L. Dončić       PG       1        8       1   \n",
       "5            Quentin Grimes      Q. Grimes        B       0        0       0   \n",
       "6          Dereck Lively II   D. Lively II        B       0        6       0   \n",
       "7             Naji Marshall    N. Marshall        B       0        3       0   \n",
       "8               Maxi Kleber      M. Kleber        B       0        1       1   \n",
       "9               Jaden Hardy       J. Hardy        B       0        2       1   \n",
       "10        Spencer Dinwiddie   S. Dinwiddie        B       0        0       0   \n",
       "11            Dwight Powell      D. Powell        B       0        0       0   \n",
       "12  Olivier-Maxence Prosper     O. Prosper        B       0        0       0   \n",
       "13           Jazian Gortman     J. Gortman        B       0        0       0   \n",
       "14          Markieff Morris      M. Morris        B       0        0       0   \n",
       "15          Kessler Edwards     K. Edwards        B       0        0       0   \n",
       "16               Danté Exum        D. Exum        B       0        0       0   \n",
       "17         Brandon Williams    B. Williams        B       0        0       0   \n",
       "\n",
       "    blocksReceived  fieldGoalsAttempted  fieldGoalsMade  fieldGoalsPercentage  \\\n",
       "0                0                   13               7              0.538462   \n",
       "1                0                   11               4              0.363636   \n",
       "2                0                    6               3              0.500000   \n",
       "3                0                   17               6              0.352941   \n",
       "4                1                   25               9              0.360000   \n",
       "5                1                    6               1              0.166667   \n",
       "6                1                    8               6              0.750000   \n",
       "7                1                    6               1              0.166667   \n",
       "8                1                    3               1              0.333333   \n",
       "9                0                    6               3              0.500000   \n",
       "10               0                    0               0              0.000000   \n",
       "11               0                    1               1              1.000000   \n",
       "12               0                    0               0              0.000000   \n",
       "13               0                    0               0              0.000000   \n",
       "14               0                    0               0              0.000000   \n",
       "15               0                    0               0              0.000000   \n",
       "16               0                    0               0              0.000000   \n",
       "17               0                    0               0              0.000000   \n",
       "\n",
       "    ...  reboundsOffensive  reboundsTotal  steals  threePointersAttempted  \\\n",
       "0   ...                  3              7       3                      10   \n",
       "1   ...                  2              5       1                       7   \n",
       "2   ...                  4              6       1                       0   \n",
       "3   ...                  1              3       2                       7   \n",
       "4   ...                  1             10       1                      11   \n",
       "5   ...                  0              0       0                       1   \n",
       "6   ...                  4             11       1                       0   \n",
       "7   ...                  0              1       0                       2   \n",
       "8   ...                  0              4       0                       1   \n",
       "9   ...                  1              1       0                       5   \n",
       "10  ...                  0              1       0                       0   \n",
       "11  ...                  1              1       0                       0   \n",
       "12  ...                  0              0       0                       0   \n",
       "13  ...                  0              0       0                       0   \n",
       "14  ...                  0              0       0                       0   \n",
       "15  ...                  0              0       0                       0   \n",
       "16  ...                  0              0       0                       0   \n",
       "17  ...                  0              0       0                       0   \n",
       "\n",
       "    threePointersMade  threePointersPercentage  turnovers  \\\n",
       "0                   6                 0.600000          0   \n",
       "1                   2                 0.285714          0   \n",
       "2                   0                 0.000000          1   \n",
       "3                   3                 0.428571          0   \n",
       "4                   4                 0.363636          4   \n",
       "5                   0                 0.000000          0   \n",
       "6                   0                 0.000000          2   \n",
       "7                   0                 0.000000          0   \n",
       "8                   1                 1.000000          0   \n",
       "9                   3                 0.600000          2   \n",
       "10                  0                 0.000000          0   \n",
       "11                  0                 0.000000          0   \n",
       "12                  0                 0.000000          0   \n",
       "13                  0                 0.000000          0   \n",
       "14                  0                 0.000000          0   \n",
       "15                  0                 0.000000          0   \n",
       "16                  0                 0.000000          0   \n",
       "17                  0                 0.000000          0   \n",
       "\n",
       "    twoPointersAttempted twoPointersMade twoPointersPercentage  \n",
       "0                      3               1              0.333333  \n",
       "1                      4               2              0.500000  \n",
       "2                      6               3              0.500000  \n",
       "3                     10               3              0.300000  \n",
       "4                     14               5              0.357143  \n",
       "5                      5               1              0.200000  \n",
       "6                      8               6              0.750000  \n",
       "7                      4               1              0.250000  \n",
       "8                      2               0              0.000000  \n",
       "9                      1               0              0.000000  \n",
       "10                     0               0              0.000000  \n",
       "11                     1               1              1.000000  \n",
       "12                     0               0              0.000000  \n",
       "13                     0               0              0.000000  \n",
       "14                     0               0              0.000000  \n",
       "15                     0               0              0.000000  \n",
       "16                     0               0              0.000000  \n",
       "17                     0               0              0.000000  \n",
       "\n",
       "[18 rows x 37 columns]"
      ]
     },
     "execution_count": 25,
     "metadata": {},
     "output_type": "execute_result"
    }
   ],
   "source": [
    "player_stats = pd.DataFrame()\n",
    "for i,player in enumerate(game['homeTeam']['players']):\n",
    "    if 'position' not in player.keys():\n",
    "        position = 'B'\n",
    "    else:\n",
    "        position = player['position']\n",
    "    \n",
    "    players_stats_tmp = pd.DataFrame({\n",
    "        'name':player['name'],\n",
    "        'nameI':player['nameI'],  \n",
    "        'position':position,\n",
    "        'starter':player['starter'],\n",
    "    },index=[i])\n",
    "    players_stats_tmp = pd.concat([players_stats_tmp,pd.DataFrame(player['statistics'],index=[i])],axis=1)\n",
    "    player_stats = pd.concat([player_stats,players_stats_tmp])\n",
    "player_stats"
   ]
  },
  {
   "cell_type": "code",
   "execution_count": 22,
   "metadata": {},
   "outputs": [
    {
     "data": {
      "text/plain": [
       "{'status': 'ACTIVE',\n",
       " 'order': 1,\n",
       " 'personId': 202691,\n",
       " 'jerseyNum': '31',\n",
       " 'position': 'SF',\n",
       " 'starter': '1',\n",
       " 'oncourt': '0',\n",
       " 'played': '1',\n",
       " 'statistics': {'assists': 1,\n",
       "  'blocks': 0,\n",
       "  'blocksReceived': 0,\n",
       "  'fieldGoalsAttempted': 13,\n",
       "  'fieldGoalsMade': 7,\n",
       "  'fieldGoalsPercentage': 0.538461538461538,\n",
       "  'foulsOffensive': 0,\n",
       "  'foulsDrawn': 1,\n",
       "  'foulsPersonal': 1,\n",
       "  'foulsTechnical': 0,\n",
       "  'freeThrowsAttempted': 2,\n",
       "  'freeThrowsMade': 2,\n",
       "  'freeThrowsPercentage': 1.0,\n",
       "  'minus': 57.0,\n",
       "  'minutes': 'PT26M05.00S',\n",
       "  'minutesCalculated': 'PT26M',\n",
       "  'plus': 73.0,\n",
       "  'plusMinusPoints': 16.0,\n",
       "  'points': 22,\n",
       "  'pointsFastBreak': 5,\n",
       "  'pointsInThePaint': 0,\n",
       "  'pointsSecondChance': 6,\n",
       "  'reboundsDefensive': 4,\n",
       "  'reboundsOffensive': 3,\n",
       "  'reboundsTotal': 7,\n",
       "  'steals': 3,\n",
       "  'threePointersAttempted': 10,\n",
       "  'threePointersMade': 6,\n",
       "  'threePointersPercentage': 0.6,\n",
       "  'turnovers': 0,\n",
       "  'twoPointersAttempted': 3,\n",
       "  'twoPointersMade': 1,\n",
       "  'twoPointersPercentage': 0.333333333333333},\n",
       " 'name': 'Klay Thompson',\n",
       " 'nameI': 'K. Thompson',\n",
       " 'firstName': 'Klay',\n",
       " 'familyName': 'Thompson'}"
      ]
     },
     "execution_count": 22,
     "metadata": {},
     "output_type": "execute_result"
    }
   ],
   "source": [
    "game['homeTeam']['players'][0]"
   ]
  },
  {
   "cell_type": "code",
   "execution_count": 11,
   "metadata": {},
   "outputs": [
    {
     "data": {
      "text/html": [
       "<div>\n",
       "<style scoped>\n",
       "    .dataframe tbody tr th:only-of-type {\n",
       "        vertical-align: middle;\n",
       "    }\n",
       "\n",
       "    .dataframe tbody tr th {\n",
       "        vertical-align: top;\n",
       "    }\n",
       "\n",
       "    .dataframe thead th {\n",
       "        text-align: right;\n",
       "    }\n",
       "</style>\n",
       "<table border=\"1\" class=\"dataframe\">\n",
       "  <thead>\n",
       "    <tr style=\"text-align: right;\">\n",
       "      <th></th>\n",
       "      <th>assists</th>\n",
       "      <th>blocks</th>\n",
       "      <th>blocksReceived</th>\n",
       "      <th>fieldGoalsAttempted</th>\n",
       "      <th>fieldGoalsMade</th>\n",
       "      <th>fieldGoalsPercentage</th>\n",
       "      <th>foulsOffensive</th>\n",
       "      <th>foulsDrawn</th>\n",
       "      <th>foulsPersonal</th>\n",
       "      <th>foulsTechnical</th>\n",
       "      <th>...</th>\n",
       "      <th>reboundsOffensive</th>\n",
       "      <th>reboundsTotal</th>\n",
       "      <th>steals</th>\n",
       "      <th>threePointersAttempted</th>\n",
       "      <th>threePointersMade</th>\n",
       "      <th>threePointersPercentage</th>\n",
       "      <th>turnovers</th>\n",
       "      <th>twoPointersAttempted</th>\n",
       "      <th>twoPointersMade</th>\n",
       "      <th>twoPointersPercentage</th>\n",
       "    </tr>\n",
       "  </thead>\n",
       "  <tbody>\n",
       "    <tr>\n",
       "      <th>0</th>\n",
       "      <td>1</td>\n",
       "      <td>0</td>\n",
       "      <td>0</td>\n",
       "      <td>13</td>\n",
       "      <td>7</td>\n",
       "      <td>0.538462</td>\n",
       "      <td>0</td>\n",
       "      <td>1</td>\n",
       "      <td>1</td>\n",
       "      <td>0</td>\n",
       "      <td>...</td>\n",
       "      <td>3</td>\n",
       "      <td>7</td>\n",
       "      <td>3</td>\n",
       "      <td>10</td>\n",
       "      <td>6</td>\n",
       "      <td>0.6</td>\n",
       "      <td>0</td>\n",
       "      <td>3</td>\n",
       "      <td>1</td>\n",
       "      <td>0.333333</td>\n",
       "    </tr>\n",
       "  </tbody>\n",
       "</table>\n",
       "<p>1 rows × 33 columns</p>\n",
       "</div>"
      ],
      "text/plain": [
       "   assists  blocks  blocksReceived  fieldGoalsAttempted  fieldGoalsMade  \\\n",
       "0        1       0               0                   13               7   \n",
       "\n",
       "   fieldGoalsPercentage  foulsOffensive  foulsDrawn  foulsPersonal  \\\n",
       "0              0.538462               0           1              1   \n",
       "\n",
       "   foulsTechnical  ...  reboundsOffensive  reboundsTotal  steals  \\\n",
       "0               0  ...                  3              7       3   \n",
       "\n",
       "   threePointersAttempted threePointersMade threePointersPercentage  \\\n",
       "0                      10                 6                     0.6   \n",
       "\n",
       "   turnovers  twoPointersAttempted  twoPointersMade  twoPointersPercentage  \n",
       "0          0                     3                1               0.333333  \n",
       "\n",
       "[1 rows x 33 columns]"
      ]
     },
     "execution_count": 11,
     "metadata": {},
     "output_type": "execute_result"
    }
   ],
   "source": [
    "pd.DataFrame(game['homeTeam']['players'][0]['statistics'],index=[0])"
   ]
  },
  {
   "cell_type": "code",
   "execution_count": 14,
   "metadata": {},
   "outputs": [],
   "source": [
    "from nba_api.stats.endpoints import playbyplayv2"
   ]
  },
  {
   "cell_type": "code",
   "execution_count": 15,
   "metadata": {},
   "outputs": [
    {
     "data": {
      "text/html": [
       "<div>\n",
       "<style scoped>\n",
       "    .dataframe tbody tr th:only-of-type {\n",
       "        vertical-align: middle;\n",
       "    }\n",
       "\n",
       "    .dataframe tbody tr th {\n",
       "        vertical-align: top;\n",
       "    }\n",
       "\n",
       "    .dataframe thead th {\n",
       "        text-align: right;\n",
       "    }\n",
       "</style>\n",
       "<table border=\"1\" class=\"dataframe\">\n",
       "  <thead>\n",
       "    <tr style=\"text-align: right;\">\n",
       "      <th></th>\n",
       "      <th>GAME_ID</th>\n",
       "      <th>EVENTNUM</th>\n",
       "      <th>EVENTMSGTYPE</th>\n",
       "      <th>EVENTMSGACTIONTYPE</th>\n",
       "      <th>PERIOD</th>\n",
       "      <th>WCTIMESTRING</th>\n",
       "      <th>PCTIMESTRING</th>\n",
       "      <th>HOMEDESCRIPTION</th>\n",
       "      <th>NEUTRALDESCRIPTION</th>\n",
       "      <th>VISITORDESCRIPTION</th>\n",
       "      <th>...</th>\n",
       "      <th>PLAYER2_TEAM_NICKNAME</th>\n",
       "      <th>PLAYER2_TEAM_ABBREVIATION</th>\n",
       "      <th>PERSON3TYPE</th>\n",
       "      <th>PLAYER3_ID</th>\n",
       "      <th>PLAYER3_NAME</th>\n",
       "      <th>PLAYER3_TEAM_ID</th>\n",
       "      <th>PLAYER3_TEAM_CITY</th>\n",
       "      <th>PLAYER3_TEAM_NICKNAME</th>\n",
       "      <th>PLAYER3_TEAM_ABBREVIATION</th>\n",
       "      <th>VIDEO_AVAILABLE_FLAG</th>\n",
       "    </tr>\n",
       "  </thead>\n",
       "  <tbody>\n",
       "    <tr>\n",
       "      <th>0</th>\n",
       "      <td>0022400074</td>\n",
       "      <td>2</td>\n",
       "      <td>12</td>\n",
       "      <td>0</td>\n",
       "      <td>1</td>\n",
       "      <td>7:37 PM</td>\n",
       "      <td>12:00</td>\n",
       "      <td>None</td>\n",
       "      <td>Start of 1st Period (7:37 PM EST)</td>\n",
       "      <td>None</td>\n",
       "      <td>...</td>\n",
       "      <td>None</td>\n",
       "      <td>None</td>\n",
       "      <td>0</td>\n",
       "      <td>0</td>\n",
       "      <td>None</td>\n",
       "      <td>NaN</td>\n",
       "      <td>None</td>\n",
       "      <td>None</td>\n",
       "      <td>None</td>\n",
       "      <td>0</td>\n",
       "    </tr>\n",
       "    <tr>\n",
       "      <th>1</th>\n",
       "      <td>0022400074</td>\n",
       "      <td>4</td>\n",
       "      <td>10</td>\n",
       "      <td>0</td>\n",
       "      <td>1</td>\n",
       "      <td>7:37 PM</td>\n",
       "      <td>12:00</td>\n",
       "      <td>Jump Ball Gafford vs. Wembanyama: Tip to Barnes</td>\n",
       "      <td>None</td>\n",
       "      <td>None</td>\n",
       "      <td>...</td>\n",
       "      <td>Spurs</td>\n",
       "      <td>SAS</td>\n",
       "      <td>5</td>\n",
       "      <td>203084</td>\n",
       "      <td>Harrison Barnes</td>\n",
       "      <td>1.610613e+09</td>\n",
       "      <td>San Antonio</td>\n",
       "      <td>Spurs</td>\n",
       "      <td>SAS</td>\n",
       "      <td>1</td>\n",
       "    </tr>\n",
       "    <tr>\n",
       "      <th>2</th>\n",
       "      <td>0022400074</td>\n",
       "      <td>7</td>\n",
       "      <td>2</td>\n",
       "      <td>1</td>\n",
       "      <td>1</td>\n",
       "      <td>7:38 PM</td>\n",
       "      <td>11:38</td>\n",
       "      <td>None</td>\n",
       "      <td>None</td>\n",
       "      <td>MISS Champagnie 3PT Jump Shot</td>\n",
       "      <td>...</td>\n",
       "      <td>None</td>\n",
       "      <td>None</td>\n",
       "      <td>0</td>\n",
       "      <td>0</td>\n",
       "      <td>None</td>\n",
       "      <td>NaN</td>\n",
       "      <td>None</td>\n",
       "      <td>None</td>\n",
       "      <td>None</td>\n",
       "      <td>1</td>\n",
       "    </tr>\n",
       "    <tr>\n",
       "      <th>3</th>\n",
       "      <td>0022400074</td>\n",
       "      <td>8</td>\n",
       "      <td>4</td>\n",
       "      <td>0</td>\n",
       "      <td>1</td>\n",
       "      <td>7:38 PM</td>\n",
       "      <td>11:35</td>\n",
       "      <td>Thompson REBOUND (Off:0 Def:1)</td>\n",
       "      <td>None</td>\n",
       "      <td>None</td>\n",
       "      <td>...</td>\n",
       "      <td>None</td>\n",
       "      <td>None</td>\n",
       "      <td>0</td>\n",
       "      <td>0</td>\n",
       "      <td>None</td>\n",
       "      <td>NaN</td>\n",
       "      <td>None</td>\n",
       "      <td>None</td>\n",
       "      <td>None</td>\n",
       "      <td>1</td>\n",
       "    </tr>\n",
       "    <tr>\n",
       "      <th>4</th>\n",
       "      <td>0022400074</td>\n",
       "      <td>9</td>\n",
       "      <td>2</td>\n",
       "      <td>2</td>\n",
       "      <td>1</td>\n",
       "      <td>7:38 PM</td>\n",
       "      <td>11:29</td>\n",
       "      <td>MISS Irving 24' 3PT Running Jump Shot</td>\n",
       "      <td>None</td>\n",
       "      <td>None</td>\n",
       "      <td>...</td>\n",
       "      <td>None</td>\n",
       "      <td>None</td>\n",
       "      <td>0</td>\n",
       "      <td>0</td>\n",
       "      <td>None</td>\n",
       "      <td>NaN</td>\n",
       "      <td>None</td>\n",
       "      <td>None</td>\n",
       "      <td>None</td>\n",
       "      <td>1</td>\n",
       "    </tr>\n",
       "    <tr>\n",
       "      <th>...</th>\n",
       "      <td>...</td>\n",
       "      <td>...</td>\n",
       "      <td>...</td>\n",
       "      <td>...</td>\n",
       "      <td>...</td>\n",
       "      <td>...</td>\n",
       "      <td>...</td>\n",
       "      <td>...</td>\n",
       "      <td>...</td>\n",
       "      <td>...</td>\n",
       "      <td>...</td>\n",
       "      <td>...</td>\n",
       "      <td>...</td>\n",
       "      <td>...</td>\n",
       "      <td>...</td>\n",
       "      <td>...</td>\n",
       "      <td>...</td>\n",
       "      <td>...</td>\n",
       "      <td>...</td>\n",
       "      <td>...</td>\n",
       "      <td>...</td>\n",
       "    </tr>\n",
       "    <tr>\n",
       "      <th>492</th>\n",
       "      <td>0022400074</td>\n",
       "      <td>729</td>\n",
       "      <td>4</td>\n",
       "      <td>0</td>\n",
       "      <td>4</td>\n",
       "      <td>9:55 PM</td>\n",
       "      <td>0:29</td>\n",
       "      <td>None</td>\n",
       "      <td>None</td>\n",
       "      <td>Branham REBOUND (Off:0 Def:2)</td>\n",
       "      <td>...</td>\n",
       "      <td>None</td>\n",
       "      <td>None</td>\n",
       "      <td>0</td>\n",
       "      <td>0</td>\n",
       "      <td>None</td>\n",
       "      <td>NaN</td>\n",
       "      <td>None</td>\n",
       "      <td>None</td>\n",
       "      <td>None</td>\n",
       "      <td>1</td>\n",
       "    </tr>\n",
       "    <tr>\n",
       "      <th>493</th>\n",
       "      <td>0022400074</td>\n",
       "      <td>730</td>\n",
       "      <td>2</td>\n",
       "      <td>74</td>\n",
       "      <td>4</td>\n",
       "      <td>9:55 PM</td>\n",
       "      <td>0:26</td>\n",
       "      <td>None</td>\n",
       "      <td>None</td>\n",
       "      <td>MISS Wesley 4' Running Reverse Layup</td>\n",
       "      <td>...</td>\n",
       "      <td>None</td>\n",
       "      <td>None</td>\n",
       "      <td>0</td>\n",
       "      <td>0</td>\n",
       "      <td>None</td>\n",
       "      <td>NaN</td>\n",
       "      <td>None</td>\n",
       "      <td>None</td>\n",
       "      <td>None</td>\n",
       "      <td>1</td>\n",
       "    </tr>\n",
       "    <tr>\n",
       "      <th>494</th>\n",
       "      <td>0022400074</td>\n",
       "      <td>731</td>\n",
       "      <td>4</td>\n",
       "      <td>0</td>\n",
       "      <td>4</td>\n",
       "      <td>9:55 PM</td>\n",
       "      <td>0:24</td>\n",
       "      <td>Dinwiddie REBOUND (Off:0 Def:1)</td>\n",
       "      <td>None</td>\n",
       "      <td>None</td>\n",
       "      <td>...</td>\n",
       "      <td>None</td>\n",
       "      <td>None</td>\n",
       "      <td>0</td>\n",
       "      <td>0</td>\n",
       "      <td>None</td>\n",
       "      <td>NaN</td>\n",
       "      <td>None</td>\n",
       "      <td>None</td>\n",
       "      <td>None</td>\n",
       "      <td>1</td>\n",
       "    </tr>\n",
       "    <tr>\n",
       "      <th>495</th>\n",
       "      <td>0022400074</td>\n",
       "      <td>732</td>\n",
       "      <td>5</td>\n",
       "      <td>11</td>\n",
       "      <td>4</td>\n",
       "      <td>9:55 PM</td>\n",
       "      <td>0:02</td>\n",
       "      <td>MAVERICKS Turnover: Shot Clock (T#10)</td>\n",
       "      <td>None</td>\n",
       "      <td>None</td>\n",
       "      <td>...</td>\n",
       "      <td>None</td>\n",
       "      <td>None</td>\n",
       "      <td>1</td>\n",
       "      <td>0</td>\n",
       "      <td>None</td>\n",
       "      <td>NaN</td>\n",
       "      <td>None</td>\n",
       "      <td>None</td>\n",
       "      <td>None</td>\n",
       "      <td>0</td>\n",
       "    </tr>\n",
       "    <tr>\n",
       "      <th>496</th>\n",
       "      <td>0022400074</td>\n",
       "      <td>733</td>\n",
       "      <td>13</td>\n",
       "      <td>0</td>\n",
       "      <td>4</td>\n",
       "      <td>9:55 PM</td>\n",
       "      <td>0:00</td>\n",
       "      <td>None</td>\n",
       "      <td>End of 4th Period (9:55 PM EST)</td>\n",
       "      <td>None</td>\n",
       "      <td>...</td>\n",
       "      <td>None</td>\n",
       "      <td>None</td>\n",
       "      <td>0</td>\n",
       "      <td>0</td>\n",
       "      <td>None</td>\n",
       "      <td>NaN</td>\n",
       "      <td>None</td>\n",
       "      <td>None</td>\n",
       "      <td>None</td>\n",
       "      <td>1</td>\n",
       "    </tr>\n",
       "  </tbody>\n",
       "</table>\n",
       "<p>497 rows × 34 columns</p>\n",
       "</div>"
      ],
      "text/plain": [
       "        GAME_ID  EVENTNUM  EVENTMSGTYPE  EVENTMSGACTIONTYPE  PERIOD  \\\n",
       "0    0022400074         2            12                   0       1   \n",
       "1    0022400074         4            10                   0       1   \n",
       "2    0022400074         7             2                   1       1   \n",
       "3    0022400074         8             4                   0       1   \n",
       "4    0022400074         9             2                   2       1   \n",
       "..          ...       ...           ...                 ...     ...   \n",
       "492  0022400074       729             4                   0       4   \n",
       "493  0022400074       730             2                  74       4   \n",
       "494  0022400074       731             4                   0       4   \n",
       "495  0022400074       732             5                  11       4   \n",
       "496  0022400074       733            13                   0       4   \n",
       "\n",
       "    WCTIMESTRING PCTIMESTRING  \\\n",
       "0        7:37 PM        12:00   \n",
       "1        7:37 PM        12:00   \n",
       "2        7:38 PM        11:38   \n",
       "3        7:38 PM        11:35   \n",
       "4        7:38 PM        11:29   \n",
       "..           ...          ...   \n",
       "492      9:55 PM         0:29   \n",
       "493      9:55 PM         0:26   \n",
       "494      9:55 PM         0:24   \n",
       "495      9:55 PM         0:02   \n",
       "496      9:55 PM         0:00   \n",
       "\n",
       "                                     HOMEDESCRIPTION  \\\n",
       "0                                               None   \n",
       "1    Jump Ball Gafford vs. Wembanyama: Tip to Barnes   \n",
       "2                                               None   \n",
       "3                     Thompson REBOUND (Off:0 Def:1)   \n",
       "4              MISS Irving 24' 3PT Running Jump Shot   \n",
       "..                                               ...   \n",
       "492                                             None   \n",
       "493                                             None   \n",
       "494                  Dinwiddie REBOUND (Off:0 Def:1)   \n",
       "495            MAVERICKS Turnover: Shot Clock (T#10)   \n",
       "496                                             None   \n",
       "\n",
       "                    NEUTRALDESCRIPTION                    VISITORDESCRIPTION  \\\n",
       "0    Start of 1st Period (7:37 PM EST)                                  None   \n",
       "1                                 None                                  None   \n",
       "2                                 None         MISS Champagnie 3PT Jump Shot   \n",
       "3                                 None                                  None   \n",
       "4                                 None                                  None   \n",
       "..                                 ...                                   ...   \n",
       "492                               None         Branham REBOUND (Off:0 Def:2)   \n",
       "493                               None  MISS Wesley 4' Running Reverse Layup   \n",
       "494                               None                                  None   \n",
       "495                               None                                  None   \n",
       "496    End of 4th Period (9:55 PM EST)                                  None   \n",
       "\n",
       "     ... PLAYER2_TEAM_NICKNAME PLAYER2_TEAM_ABBREVIATION  PERSON3TYPE  \\\n",
       "0    ...                  None                      None            0   \n",
       "1    ...                 Spurs                       SAS            5   \n",
       "2    ...                  None                      None            0   \n",
       "3    ...                  None                      None            0   \n",
       "4    ...                  None                      None            0   \n",
       "..   ...                   ...                       ...          ...   \n",
       "492  ...                  None                      None            0   \n",
       "493  ...                  None                      None            0   \n",
       "494  ...                  None                      None            0   \n",
       "495  ...                  None                      None            1   \n",
       "496  ...                  None                      None            0   \n",
       "\n",
       "     PLAYER3_ID     PLAYER3_NAME  PLAYER3_TEAM_ID PLAYER3_TEAM_CITY  \\\n",
       "0             0             None              NaN              None   \n",
       "1        203084  Harrison Barnes     1.610613e+09       San Antonio   \n",
       "2             0             None              NaN              None   \n",
       "3             0             None              NaN              None   \n",
       "4             0             None              NaN              None   \n",
       "..          ...              ...              ...               ...   \n",
       "492           0             None              NaN              None   \n",
       "493           0             None              NaN              None   \n",
       "494           0             None              NaN              None   \n",
       "495           0             None              NaN              None   \n",
       "496           0             None              NaN              None   \n",
       "\n",
       "    PLAYER3_TEAM_NICKNAME PLAYER3_TEAM_ABBREVIATION  VIDEO_AVAILABLE_FLAG  \n",
       "0                    None                      None                     0  \n",
       "1                   Spurs                       SAS                     1  \n",
       "2                    None                      None                     1  \n",
       "3                    None                      None                     1  \n",
       "4                    None                      None                     1  \n",
       "..                    ...                       ...                   ...  \n",
       "492                  None                      None                     1  \n",
       "493                  None                      None                     1  \n",
       "494                  None                      None                     1  \n",
       "495                  None                      None                     0  \n",
       "496                  None                      None                     1  \n",
       "\n",
       "[497 rows x 34 columns]"
      ]
     },
     "execution_count": 15,
     "metadata": {},
     "output_type": "execute_result"
    }
   ],
   "source": [
    "df = playbyplayv2.PlayByPlayV2(game_id='0022400074').get_data_frames()[0]\n",
    "df"
   ]
  },
  {
   "cell_type": "code",
   "execution_count": 16,
   "metadata": {},
   "outputs": [
    {
     "data": {
      "text/plain": [
       "Index(['GAME_ID', 'EVENTNUM', 'EVENTMSGTYPE', 'EVENTMSGACTIONTYPE', 'PERIOD',\n",
       "       'WCTIMESTRING', 'PCTIMESTRING', 'HOMEDESCRIPTION', 'NEUTRALDESCRIPTION',\n",
       "       'VISITORDESCRIPTION', 'SCORE', 'SCOREMARGIN', 'PERSON1TYPE',\n",
       "       'PLAYER1_ID', 'PLAYER1_NAME', 'PLAYER1_TEAM_ID', 'PLAYER1_TEAM_CITY',\n",
       "       'PLAYER1_TEAM_NICKNAME', 'PLAYER1_TEAM_ABBREVIATION', 'PERSON2TYPE',\n",
       "       'PLAYER2_ID', 'PLAYER2_NAME', 'PLAYER2_TEAM_ID', 'PLAYER2_TEAM_CITY',\n",
       "       'PLAYER2_TEAM_NICKNAME', 'PLAYER2_TEAM_ABBREVIATION', 'PERSON3TYPE',\n",
       "       'PLAYER3_ID', 'PLAYER3_NAME', 'PLAYER3_TEAM_ID', 'PLAYER3_TEAM_CITY',\n",
       "       'PLAYER3_TEAM_NICKNAME', 'PLAYER3_TEAM_ABBREVIATION',\n",
       "       'VIDEO_AVAILABLE_FLAG'],\n",
       "      dtype='object')"
      ]
     },
     "execution_count": 16,
     "metadata": {},
     "output_type": "execute_result"
    }
   ],
   "source": [
    "df.columns"
   ]
  },
  {
   "cell_type": "code",
   "execution_count": 18,
   "metadata": {},
   "outputs": [],
   "source": [
    "import plotly.express as px"
   ]
  },
  {
   "cell_type": "code",
   "execution_count": 20,
   "metadata": {},
   "outputs": [
    {
     "name": "stderr",
     "output_type": "stream",
     "text": [
      "/var/folders/vs/q6987dsj0m34ppwb7xwtgx440000gn/T/ipykernel_78780/3422831966.py:10: SettingWithCopyWarning:\n",
      "\n",
      "\n",
      "A value is trying to be set on a copy of a slice from a DataFrame.\n",
      "Try using .loc[row_indexer,col_indexer] = value instead\n",
      "\n",
      "See the caveats in the documentation: https://pandas.pydata.org/pandas-docs/stable/user_guide/indexing.html#returning-a-view-versus-a-copy\n",
      "\n",
      "/var/folders/vs/q6987dsj0m34ppwb7xwtgx440000gn/T/ipykernel_78780/3422831966.py:14: SettingWithCopyWarning:\n",
      "\n",
      "\n",
      "A value is trying to be set on a copy of a slice from a DataFrame.\n",
      "Try using .loc[row_indexer,col_indexer] = value instead\n",
      "\n",
      "See the caveats in the documentation: https://pandas.pydata.org/pandas-docs/stable/user_guide/indexing.html#returning-a-view-versus-a-copy\n",
      "\n",
      "/var/folders/vs/q6987dsj0m34ppwb7xwtgx440000gn/T/ipykernel_78780/3422831966.py:14: SettingWithCopyWarning:\n",
      "\n",
      "\n",
      "A value is trying to be set on a copy of a slice from a DataFrame.\n",
      "Try using .loc[row_indexer,col_indexer] = value instead\n",
      "\n",
      "See the caveats in the documentation: https://pandas.pydata.org/pandas-docs/stable/user_guide/indexing.html#returning-a-view-versus-a-copy\n",
      "\n",
      "/var/folders/vs/q6987dsj0m34ppwb7xwtgx440000gn/T/ipykernel_78780/3422831966.py:17: SettingWithCopyWarning:\n",
      "\n",
      "\n",
      "A value is trying to be set on a copy of a slice from a DataFrame.\n",
      "Try using .loc[row_indexer,col_indexer] = value instead\n",
      "\n",
      "See the caveats in the documentation: https://pandas.pydata.org/pandas-docs/stable/user_guide/indexing.html#returning-a-view-versus-a-copy\n",
      "\n"
     ]
    },
    {
     "data": {
      "application/vnd.plotly.v1+json": {
       "config": {
        "plotlyServerURL": "https://plot.ly"
       },
       "data": [
        {
         "fillpattern": {
          "shape": ""
         },
         "hovertemplate": "Temps écoulé (minutes)=%{x}<br>Écart de Score=%{y}<extra></extra>",
         "legendgroup": "",
         "line": {
          "color": "#636efa",
          "width": 0.5
         },
         "marker": {
          "symbol": "circle"
         },
         "mode": "lines",
         "name": "",
         "orientation": "v",
         "showlegend": false,
         "stackgroup": "1",
         "type": "scatter",
         "x": [
          36.666666666666664,
          37.38333333333333,
          37.6,
          38.733333333333334,
          39.71666666666667,
          39.916666666666664,
          40.11666666666667,
          40.43333333333334,
          40.8,
          41.03333333333333,
          41.516666666666666,
          42.5,
          42.85,
          43.016666666666666,
          43.31666666666666,
          43.61666666666667,
          44.1,
          45.3,
          45.7,
          48,
          24,
          24.733333333333334,
          26.166666666666668,
          26.166666666666668,
          26.7,
          27.566666666666666,
          27.75,
          27.75,
          27.916666666666668,
          28.133333333333333,
          28.683333333333334,
          28.933333333333334,
          29.216666666666665,
          29.55,
          29.866666666666667,
          30.766666666666666,
          31.233333333333334,
          31.6,
          31.983333333333334,
          32.25,
          32.56666666666666,
          33.65,
          33.9,
          34.21666666666667,
          34.5,
          34.733333333333334,
          34.85,
          36,
          12,
          12.93333333333333,
          13.116666666666667,
          13.116666666666667,
          13.483333333333334,
          14.06666666666667,
          14.25,
          14.25,
          14.916666666666664,
          15.399999999999999,
          15.700000000000003,
          15.700000000000003,
          16.15,
          16.4,
          16.816666666666666,
          17.15,
          17.533333333333335,
          17.866666666666667,
          18.816666666666666,
          18.816666666666666,
          19.133333333333333,
          19.716666666666665,
          19.866666666666667,
          19.9,
          19.9,
          20.033333333333335,
          20.033333333333335,
          20.333333333333332,
          20.566666666666666,
          20.633333333333333,
          20.95,
          21.033333333333335,
          21.033333333333335,
          21.283333333333335,
          21.283333333333335,
          21.566666666666666,
          21.833333333333332,
          22.066666666666666,
          22.216666666666665,
          23.15,
          23.833333333333332,
          24,
          0,
          0.4166666666666643,
          0.4166666666666643,
          0.4166666666666643,
          0.5166666666666657,
          1,
          1,
          1.1499999999999986,
          1.5166666666666657,
          2.2666666666666657,
          3.18333333333333,
          3.5333333333333314,
          3.7666666666666657,
          4.149999999999999,
          5.383333333333333,
          5.733333333333334,
          5.983333333333334,
          6.333333333333336,
          6.333333333333336,
          6.549999999999997,
          6.68333333333333,
          6.68333333333333,
          6.833333333333336,
          7.333333333333336,
          7.56666666666667,
          7.56666666666667,
          7.850000000000001,
          8.18333333333333,
          8.516666666666666,
          9.533333333333331,
          10.016666666666666,
          10.68333333333333,
          10.81666666666667,
          11.100000000000001,
          12
         ],
         "xaxis": "x",
         "y": [
          3,
          6,
          4,
          2,
          4,
          1,
          3,
          1,
          -2,
          0,
          -1,
          2,
          5,
          3,
          5,
          4,
          2,
          0,
          2,
          2,
          2,
          0,
          1,
          2,
          4,
          1,
          2,
          3,
          1,
          3,
          2,
          5,
          3,
          6,
          4,
          1,
          3,
          0,
          2,
          0,
          2,
          0,
          3,
          5,
          3,
          5,
          2,
          2,
          2,
          -1,
          0,
          1,
          -2,
          -5,
          -4,
          -3,
          -5,
          -8,
          -9,
          -10,
          -8,
          -11,
          -14,
          -12,
          -10,
          -7,
          -8,
          -9,
          -6,
          -3,
          -4,
          -3,
          -2,
          -3,
          -4,
          -2,
          -4,
          -3,
          -5,
          -4,
          -3,
          -4,
          -5,
          -8,
          -6,
          -8,
          -6,
          -8,
          -7,
          -7,
          -7,
          -7,
          -8,
          -9,
          -11,
          -9,
          -8,
          -11,
          -14,
          -17,
          -20,
          -18,
          -21,
          -19,
          -21,
          -18,
          -21,
          -20,
          -19,
          -20,
          -18,
          -17,
          -19,
          -16,
          -17,
          -18,
          -17,
          -15,
          -13,
          -11,
          -13,
          -11,
          -13,
          -11,
          -11
         ],
         "yaxis": "y"
        }
       ],
       "layout": {
        "legend": {
         "tracegroupgap": 0
        },
        "showlegend": false,
        "template": {
         "data": {
          "bar": [
           {
            "error_x": {
             "color": "#2a3f5f"
            },
            "error_y": {
             "color": "#2a3f5f"
            },
            "marker": {
             "line": {
              "color": "#E5ECF6",
              "width": 0.5
             },
             "pattern": {
              "fillmode": "overlay",
              "size": 10,
              "solidity": 0.2
             }
            },
            "type": "bar"
           }
          ],
          "barpolar": [
           {
            "marker": {
             "line": {
              "color": "#E5ECF6",
              "width": 0.5
             },
             "pattern": {
              "fillmode": "overlay",
              "size": 10,
              "solidity": 0.2
             }
            },
            "type": "barpolar"
           }
          ],
          "carpet": [
           {
            "aaxis": {
             "endlinecolor": "#2a3f5f",
             "gridcolor": "white",
             "linecolor": "white",
             "minorgridcolor": "white",
             "startlinecolor": "#2a3f5f"
            },
            "baxis": {
             "endlinecolor": "#2a3f5f",
             "gridcolor": "white",
             "linecolor": "white",
             "minorgridcolor": "white",
             "startlinecolor": "#2a3f5f"
            },
            "type": "carpet"
           }
          ],
          "choropleth": [
           {
            "colorbar": {
             "outlinewidth": 0,
             "ticks": ""
            },
            "type": "choropleth"
           }
          ],
          "contour": [
           {
            "colorbar": {
             "outlinewidth": 0,
             "ticks": ""
            },
            "colorscale": [
             [
              0,
              "#0d0887"
             ],
             [
              0.1111111111111111,
              "#46039f"
             ],
             [
              0.2222222222222222,
              "#7201a8"
             ],
             [
              0.3333333333333333,
              "#9c179e"
             ],
             [
              0.4444444444444444,
              "#bd3786"
             ],
             [
              0.5555555555555556,
              "#d8576b"
             ],
             [
              0.6666666666666666,
              "#ed7953"
             ],
             [
              0.7777777777777778,
              "#fb9f3a"
             ],
             [
              0.8888888888888888,
              "#fdca26"
             ],
             [
              1,
              "#f0f921"
             ]
            ],
            "type": "contour"
           }
          ],
          "contourcarpet": [
           {
            "colorbar": {
             "outlinewidth": 0,
             "ticks": ""
            },
            "type": "contourcarpet"
           }
          ],
          "heatmap": [
           {
            "colorbar": {
             "outlinewidth": 0,
             "ticks": ""
            },
            "colorscale": [
             [
              0,
              "#0d0887"
             ],
             [
              0.1111111111111111,
              "#46039f"
             ],
             [
              0.2222222222222222,
              "#7201a8"
             ],
             [
              0.3333333333333333,
              "#9c179e"
             ],
             [
              0.4444444444444444,
              "#bd3786"
             ],
             [
              0.5555555555555556,
              "#d8576b"
             ],
             [
              0.6666666666666666,
              "#ed7953"
             ],
             [
              0.7777777777777778,
              "#fb9f3a"
             ],
             [
              0.8888888888888888,
              "#fdca26"
             ],
             [
              1,
              "#f0f921"
             ]
            ],
            "type": "heatmap"
           }
          ],
          "heatmapgl": [
           {
            "colorbar": {
             "outlinewidth": 0,
             "ticks": ""
            },
            "colorscale": [
             [
              0,
              "#0d0887"
             ],
             [
              0.1111111111111111,
              "#46039f"
             ],
             [
              0.2222222222222222,
              "#7201a8"
             ],
             [
              0.3333333333333333,
              "#9c179e"
             ],
             [
              0.4444444444444444,
              "#bd3786"
             ],
             [
              0.5555555555555556,
              "#d8576b"
             ],
             [
              0.6666666666666666,
              "#ed7953"
             ],
             [
              0.7777777777777778,
              "#fb9f3a"
             ],
             [
              0.8888888888888888,
              "#fdca26"
             ],
             [
              1,
              "#f0f921"
             ]
            ],
            "type": "heatmapgl"
           }
          ],
          "histogram": [
           {
            "marker": {
             "pattern": {
              "fillmode": "overlay",
              "size": 10,
              "solidity": 0.2
             }
            },
            "type": "histogram"
           }
          ],
          "histogram2d": [
           {
            "colorbar": {
             "outlinewidth": 0,
             "ticks": ""
            },
            "colorscale": [
             [
              0,
              "#0d0887"
             ],
             [
              0.1111111111111111,
              "#46039f"
             ],
             [
              0.2222222222222222,
              "#7201a8"
             ],
             [
              0.3333333333333333,
              "#9c179e"
             ],
             [
              0.4444444444444444,
              "#bd3786"
             ],
             [
              0.5555555555555556,
              "#d8576b"
             ],
             [
              0.6666666666666666,
              "#ed7953"
             ],
             [
              0.7777777777777778,
              "#fb9f3a"
             ],
             [
              0.8888888888888888,
              "#fdca26"
             ],
             [
              1,
              "#f0f921"
             ]
            ],
            "type": "histogram2d"
           }
          ],
          "histogram2dcontour": [
           {
            "colorbar": {
             "outlinewidth": 0,
             "ticks": ""
            },
            "colorscale": [
             [
              0,
              "#0d0887"
             ],
             [
              0.1111111111111111,
              "#46039f"
             ],
             [
              0.2222222222222222,
              "#7201a8"
             ],
             [
              0.3333333333333333,
              "#9c179e"
             ],
             [
              0.4444444444444444,
              "#bd3786"
             ],
             [
              0.5555555555555556,
              "#d8576b"
             ],
             [
              0.6666666666666666,
              "#ed7953"
             ],
             [
              0.7777777777777778,
              "#fb9f3a"
             ],
             [
              0.8888888888888888,
              "#fdca26"
             ],
             [
              1,
              "#f0f921"
             ]
            ],
            "type": "histogram2dcontour"
           }
          ],
          "mesh3d": [
           {
            "colorbar": {
             "outlinewidth": 0,
             "ticks": ""
            },
            "type": "mesh3d"
           }
          ],
          "parcoords": [
           {
            "line": {
             "colorbar": {
              "outlinewidth": 0,
              "ticks": ""
             }
            },
            "type": "parcoords"
           }
          ],
          "pie": [
           {
            "automargin": true,
            "type": "pie"
           }
          ],
          "scatter": [
           {
            "fillpattern": {
             "fillmode": "overlay",
             "size": 10,
             "solidity": 0.2
            },
            "type": "scatter"
           }
          ],
          "scatter3d": [
           {
            "line": {
             "colorbar": {
              "outlinewidth": 0,
              "ticks": ""
             }
            },
            "marker": {
             "colorbar": {
              "outlinewidth": 0,
              "ticks": ""
             }
            },
            "type": "scatter3d"
           }
          ],
          "scattercarpet": [
           {
            "marker": {
             "colorbar": {
              "outlinewidth": 0,
              "ticks": ""
             }
            },
            "type": "scattercarpet"
           }
          ],
          "scattergeo": [
           {
            "marker": {
             "colorbar": {
              "outlinewidth": 0,
              "ticks": ""
             }
            },
            "type": "scattergeo"
           }
          ],
          "scattergl": [
           {
            "marker": {
             "colorbar": {
              "outlinewidth": 0,
              "ticks": ""
             }
            },
            "type": "scattergl"
           }
          ],
          "scattermapbox": [
           {
            "marker": {
             "colorbar": {
              "outlinewidth": 0,
              "ticks": ""
             }
            },
            "type": "scattermapbox"
           }
          ],
          "scatterpolar": [
           {
            "marker": {
             "colorbar": {
              "outlinewidth": 0,
              "ticks": ""
             }
            },
            "type": "scatterpolar"
           }
          ],
          "scatterpolargl": [
           {
            "marker": {
             "colorbar": {
              "outlinewidth": 0,
              "ticks": ""
             }
            },
            "type": "scatterpolargl"
           }
          ],
          "scatterternary": [
           {
            "marker": {
             "colorbar": {
              "outlinewidth": 0,
              "ticks": ""
             }
            },
            "type": "scatterternary"
           }
          ],
          "surface": [
           {
            "colorbar": {
             "outlinewidth": 0,
             "ticks": ""
            },
            "colorscale": [
             [
              0,
              "#0d0887"
             ],
             [
              0.1111111111111111,
              "#46039f"
             ],
             [
              0.2222222222222222,
              "#7201a8"
             ],
             [
              0.3333333333333333,
              "#9c179e"
             ],
             [
              0.4444444444444444,
              "#bd3786"
             ],
             [
              0.5555555555555556,
              "#d8576b"
             ],
             [
              0.6666666666666666,
              "#ed7953"
             ],
             [
              0.7777777777777778,
              "#fb9f3a"
             ],
             [
              0.8888888888888888,
              "#fdca26"
             ],
             [
              1,
              "#f0f921"
             ]
            ],
            "type": "surface"
           }
          ],
          "table": [
           {
            "cells": {
             "fill": {
              "color": "#EBF0F8"
             },
             "line": {
              "color": "white"
             }
            },
            "header": {
             "fill": {
              "color": "#C8D4E3"
             },
             "line": {
              "color": "white"
             }
            },
            "type": "table"
           }
          ]
         },
         "layout": {
          "annotationdefaults": {
           "arrowcolor": "#2a3f5f",
           "arrowhead": 0,
           "arrowwidth": 1
          },
          "autotypenumbers": "strict",
          "coloraxis": {
           "colorbar": {
            "outlinewidth": 0,
            "ticks": ""
           }
          },
          "colorscale": {
           "diverging": [
            [
             0,
             "#8e0152"
            ],
            [
             0.1,
             "#c51b7d"
            ],
            [
             0.2,
             "#de77ae"
            ],
            [
             0.3,
             "#f1b6da"
            ],
            [
             0.4,
             "#fde0ef"
            ],
            [
             0.5,
             "#f7f7f7"
            ],
            [
             0.6,
             "#e6f5d0"
            ],
            [
             0.7,
             "#b8e186"
            ],
            [
             0.8,
             "#7fbc41"
            ],
            [
             0.9,
             "#4d9221"
            ],
            [
             1,
             "#276419"
            ]
           ],
           "sequential": [
            [
             0,
             "#0d0887"
            ],
            [
             0.1111111111111111,
             "#46039f"
            ],
            [
             0.2222222222222222,
             "#7201a8"
            ],
            [
             0.3333333333333333,
             "#9c179e"
            ],
            [
             0.4444444444444444,
             "#bd3786"
            ],
            [
             0.5555555555555556,
             "#d8576b"
            ],
            [
             0.6666666666666666,
             "#ed7953"
            ],
            [
             0.7777777777777778,
             "#fb9f3a"
            ],
            [
             0.8888888888888888,
             "#fdca26"
            ],
            [
             1,
             "#f0f921"
            ]
           ],
           "sequentialminus": [
            [
             0,
             "#0d0887"
            ],
            [
             0.1111111111111111,
             "#46039f"
            ],
            [
             0.2222222222222222,
             "#7201a8"
            ],
            [
             0.3333333333333333,
             "#9c179e"
            ],
            [
             0.4444444444444444,
             "#bd3786"
            ],
            [
             0.5555555555555556,
             "#d8576b"
            ],
            [
             0.6666666666666666,
             "#ed7953"
            ],
            [
             0.7777777777777778,
             "#fb9f3a"
            ],
            [
             0.8888888888888888,
             "#fdca26"
            ],
            [
             1,
             "#f0f921"
            ]
           ]
          },
          "colorway": [
           "#636efa",
           "#EF553B",
           "#00cc96",
           "#ab63fa",
           "#FFA15A",
           "#19d3f3",
           "#FF6692",
           "#B6E880",
           "#FF97FF",
           "#FECB52"
          ],
          "font": {
           "color": "#2a3f5f"
          },
          "geo": {
           "bgcolor": "white",
           "lakecolor": "white",
           "landcolor": "#E5ECF6",
           "showlakes": true,
           "showland": true,
           "subunitcolor": "white"
          },
          "hoverlabel": {
           "align": "left"
          },
          "hovermode": "closest",
          "mapbox": {
           "style": "light"
          },
          "paper_bgcolor": "white",
          "plot_bgcolor": "#E5ECF6",
          "polar": {
           "angularaxis": {
            "gridcolor": "white",
            "linecolor": "white",
            "ticks": ""
           },
           "bgcolor": "#E5ECF6",
           "radialaxis": {
            "gridcolor": "white",
            "linecolor": "white",
            "ticks": ""
           }
          },
          "scene": {
           "xaxis": {
            "backgroundcolor": "#E5ECF6",
            "gridcolor": "white",
            "gridwidth": 2,
            "linecolor": "white",
            "showbackground": true,
            "ticks": "",
            "zerolinecolor": "white"
           },
           "yaxis": {
            "backgroundcolor": "#E5ECF6",
            "gridcolor": "white",
            "gridwidth": 2,
            "linecolor": "white",
            "showbackground": true,
            "ticks": "",
            "zerolinecolor": "white"
           },
           "zaxis": {
            "backgroundcolor": "#E5ECF6",
            "gridcolor": "white",
            "gridwidth": 2,
            "linecolor": "white",
            "showbackground": true,
            "ticks": "",
            "zerolinecolor": "white"
           }
          },
          "shapedefaults": {
           "line": {
            "color": "#2a3f5f"
           }
          },
          "ternary": {
           "aaxis": {
            "gridcolor": "white",
            "linecolor": "white",
            "ticks": ""
           },
           "baxis": {
            "gridcolor": "white",
            "linecolor": "white",
            "ticks": ""
           },
           "bgcolor": "#E5ECF6",
           "caxis": {
            "gridcolor": "white",
            "linecolor": "white",
            "ticks": ""
           }
          },
          "title": {
           "x": 0.05
          },
          "xaxis": {
           "automargin": true,
           "gridcolor": "white",
           "linecolor": "white",
           "ticks": "",
           "title": {
            "standoff": 15
           },
           "zerolinecolor": "white",
           "zerolinewidth": 2
          },
          "yaxis": {
           "automargin": true,
           "gridcolor": "white",
           "linecolor": "white",
           "ticks": "",
           "title": {
            "standoff": 15
           },
           "zerolinecolor": "white",
           "zerolinewidth": 2
          }
         }
        },
        "title": {
         "text": "Évolution de l'écart de score au fil du match"
        },
        "xaxis": {
         "anchor": "y",
         "autorange": "reversed",
         "domain": [
          0,
          1
         ],
         "title": {
          "text": "Temps écoulé (minutes)"
         }
        },
        "yaxis": {
         "anchor": "x",
         "domain": [
          0,
          1
         ],
         "title": {
          "text": "Écart de Score"
         },
         "zeroline": true
        }
       }
      }
     },
     "metadata": {},
     "output_type": "display_data"
    }
   ],
   "source": [
    "# Sélectionner uniquement les colonnes nécessaires\n",
    "play_by_play_df = df[['PCTIMESTRING', 'PERIOD', 'SCORE', 'HOMEDESCRIPTION', 'VISITORDESCRIPTION']]\n",
    "\n",
    "# Convertir le temps de chaque période en temps cumulé en minutes\n",
    "def calculate_total_time(row):\n",
    "    minutes, seconds = map(int, row['PCTIMESTRING'].split(\":\"))\n",
    "    period_offset = (row['PERIOD'] - 1) * 12  # Chaque période ajoute 12 minutes\n",
    "    return 48 - (period_offset + minutes + seconds / 60)  # Calcul du temps restant en minutes\n",
    "\n",
    "play_by_play_df['TOTAL_MINUTES'] = play_by_play_df.apply(calculate_total_time, axis=1)\n",
    "\n",
    "# Étape 4 : Extraire les scores de chaque action\n",
    "# Remplir les scores et les diviser en home et away\n",
    "play_by_play_df['HOME_SCORE'], play_by_play_df['AWAY_SCORE'] = zip(*play_by_play_df['SCORE'].fillna(\"0-0\").apply(lambda x: map(int, x.split(\"-\"))))\n",
    "\n",
    "# Calculer l'écart de score\n",
    "play_by_play_df['SCORE_DIFF'] = play_by_play_df['HOME_SCORE'] - play_by_play_df['AWAY_SCORE']\n",
    "\n",
    "# Étape 5 : Filtrer les actions où le score change\n",
    "score_changes = play_by_play_df.dropna(subset=['SCORE']).reset_index(drop=True)\n",
    "\n",
    "# Étape 6 : Créer le graphique\n",
    "fig = px.area(score_changes, x=\"TOTAL_MINUTES\", y=\"SCORE_DIFF\",\n",
    "                labels={\"TOTAL_MINUTES\": \"Temps écoulé (minutes)\", \"SCORE_DIFF\": \"Écart de Score\"},\n",
    "                title=\"Évolution de l'écart de score au fil du match\")\n",
    "\n",
    "# Ajustements de style pour l'aire\n",
    "fig.update_traces(line=dict(width=0.5))\n",
    "fig.update_layout(yaxis=dict(title=\"Écart de Score\", zeroline=True),\n",
    "                    xaxis=dict(title=\"Temps écoulé (minutes)\", autorange=\"reversed\"),\n",
    "                    showlegend=False)\n",
    "\n",
    "# Afficher le graphique\n",
    "fig.show()"
   ]
  },
  {
   "cell_type": "code",
   "execution_count": 24,
   "metadata": {},
   "outputs": [
    {
     "name": "stderr",
     "output_type": "stream",
     "text": [
      "/var/folders/vs/q6987dsj0m34ppwb7xwtgx440000gn/T/ipykernel_78780/38511589.py:10: SettingWithCopyWarning:\n",
      "\n",
      "\n",
      "A value is trying to be set on a copy of a slice from a DataFrame.\n",
      "Try using .loc[row_indexer,col_indexer] = value instead\n",
      "\n",
      "See the caveats in the documentation: https://pandas.pydata.org/pandas-docs/stable/user_guide/indexing.html#returning-a-view-versus-a-copy\n",
      "\n"
     ]
    },
    {
     "data": {
      "text/html": [
       "<div>\n",
       "<style scoped>\n",
       "    .dataframe tbody tr th:only-of-type {\n",
       "        vertical-align: middle;\n",
       "    }\n",
       "\n",
       "    .dataframe tbody tr th {\n",
       "        vertical-align: top;\n",
       "    }\n",
       "\n",
       "    .dataframe thead th {\n",
       "        text-align: right;\n",
       "    }\n",
       "</style>\n",
       "<table border=\"1\" class=\"dataframe\">\n",
       "  <thead>\n",
       "    <tr style=\"text-align: right;\">\n",
       "      <th></th>\n",
       "      <th>PCTIMESTRING</th>\n",
       "      <th>PERIOD</th>\n",
       "      <th>SCORE</th>\n",
       "      <th>HOMEDESCRIPTION</th>\n",
       "      <th>VISITORDESCRIPTION</th>\n",
       "      <th>TOTAL_MINUTES</th>\n",
       "    </tr>\n",
       "  </thead>\n",
       "  <tbody>\n",
       "    <tr>\n",
       "      <th>0</th>\n",
       "      <td>12:00</td>\n",
       "      <td>1</td>\n",
       "      <td>None</td>\n",
       "      <td>None</td>\n",
       "      <td>None</td>\n",
       "      <td>36.000000</td>\n",
       "    </tr>\n",
       "    <tr>\n",
       "      <th>1</th>\n",
       "      <td>12:00</td>\n",
       "      <td>1</td>\n",
       "      <td>None</td>\n",
       "      <td>Jump Ball Gafford vs. Wembanyama: Tip to Barnes</td>\n",
       "      <td>None</td>\n",
       "      <td>36.000000</td>\n",
       "    </tr>\n",
       "    <tr>\n",
       "      <th>2</th>\n",
       "      <td>11:38</td>\n",
       "      <td>1</td>\n",
       "      <td>None</td>\n",
       "      <td>None</td>\n",
       "      <td>MISS Champagnie 3PT Jump Shot</td>\n",
       "      <td>36.366667</td>\n",
       "    </tr>\n",
       "    <tr>\n",
       "      <th>3</th>\n",
       "      <td>11:35</td>\n",
       "      <td>1</td>\n",
       "      <td>None</td>\n",
       "      <td>Thompson REBOUND (Off:0 Def:1)</td>\n",
       "      <td>None</td>\n",
       "      <td>36.416667</td>\n",
       "    </tr>\n",
       "    <tr>\n",
       "      <th>4</th>\n",
       "      <td>11:29</td>\n",
       "      <td>1</td>\n",
       "      <td>None</td>\n",
       "      <td>MISS Irving 24' 3PT Running Jump Shot</td>\n",
       "      <td>None</td>\n",
       "      <td>36.516667</td>\n",
       "    </tr>\n",
       "    <tr>\n",
       "      <th>...</th>\n",
       "      <td>...</td>\n",
       "      <td>...</td>\n",
       "      <td>...</td>\n",
       "      <td>...</td>\n",
       "      <td>...</td>\n",
       "      <td>...</td>\n",
       "    </tr>\n",
       "    <tr>\n",
       "      <th>492</th>\n",
       "      <td>0:29</td>\n",
       "      <td>4</td>\n",
       "      <td>None</td>\n",
       "      <td>None</td>\n",
       "      <td>Branham REBOUND (Off:0 Def:2)</td>\n",
       "      <td>11.516667</td>\n",
       "    </tr>\n",
       "    <tr>\n",
       "      <th>493</th>\n",
       "      <td>0:26</td>\n",
       "      <td>4</td>\n",
       "      <td>None</td>\n",
       "      <td>None</td>\n",
       "      <td>MISS Wesley 4' Running Reverse Layup</td>\n",
       "      <td>11.566667</td>\n",
       "    </tr>\n",
       "    <tr>\n",
       "      <th>494</th>\n",
       "      <td>0:24</td>\n",
       "      <td>4</td>\n",
       "      <td>None</td>\n",
       "      <td>Dinwiddie REBOUND (Off:0 Def:1)</td>\n",
       "      <td>None</td>\n",
       "      <td>11.600000</td>\n",
       "    </tr>\n",
       "    <tr>\n",
       "      <th>495</th>\n",
       "      <td>0:02</td>\n",
       "      <td>4</td>\n",
       "      <td>None</td>\n",
       "      <td>MAVERICKS Turnover: Shot Clock (T#10)</td>\n",
       "      <td>None</td>\n",
       "      <td>11.966667</td>\n",
       "    </tr>\n",
       "    <tr>\n",
       "      <th>496</th>\n",
       "      <td>0:00</td>\n",
       "      <td>4</td>\n",
       "      <td>109 - 120</td>\n",
       "      <td>None</td>\n",
       "      <td>None</td>\n",
       "      <td>12.000000</td>\n",
       "    </tr>\n",
       "  </tbody>\n",
       "</table>\n",
       "<p>497 rows × 6 columns</p>\n",
       "</div>"
      ],
      "text/plain": [
       "    PCTIMESTRING  PERIOD      SCORE  \\\n",
       "0          12:00       1       None   \n",
       "1          12:00       1       None   \n",
       "2          11:38       1       None   \n",
       "3          11:35       1       None   \n",
       "4          11:29       1       None   \n",
       "..           ...     ...        ...   \n",
       "492         0:29       4       None   \n",
       "493         0:26       4       None   \n",
       "494         0:24       4       None   \n",
       "495         0:02       4       None   \n",
       "496         0:00       4  109 - 120   \n",
       "\n",
       "                                     HOMEDESCRIPTION  \\\n",
       "0                                               None   \n",
       "1    Jump Ball Gafford vs. Wembanyama: Tip to Barnes   \n",
       "2                                               None   \n",
       "3                     Thompson REBOUND (Off:0 Def:1)   \n",
       "4              MISS Irving 24' 3PT Running Jump Shot   \n",
       "..                                               ...   \n",
       "492                                             None   \n",
       "493                                             None   \n",
       "494                  Dinwiddie REBOUND (Off:0 Def:1)   \n",
       "495            MAVERICKS Turnover: Shot Clock (T#10)   \n",
       "496                                             None   \n",
       "\n",
       "                       VISITORDESCRIPTION  TOTAL_MINUTES  \n",
       "0                                    None      36.000000  \n",
       "1                                    None      36.000000  \n",
       "2           MISS Champagnie 3PT Jump Shot      36.366667  \n",
       "3                                    None      36.416667  \n",
       "4                                    None      36.516667  \n",
       "..                                    ...            ...  \n",
       "492         Branham REBOUND (Off:0 Def:2)      11.516667  \n",
       "493  MISS Wesley 4' Running Reverse Layup      11.566667  \n",
       "494                                  None      11.600000  \n",
       "495                                  None      11.966667  \n",
       "496                                  None      12.000000  \n",
       "\n",
       "[497 rows x 6 columns]"
      ]
     },
     "execution_count": 24,
     "metadata": {},
     "output_type": "execute_result"
    }
   ],
   "source": [
    "# Sélectionner uniquement les colonnes nécessaires\n",
    "play_by_play_df = df[['PCTIMESTRING', 'PERIOD', 'SCORE', 'HOMEDESCRIPTION', 'VISITORDESCRIPTION']]\n",
    "\n",
    "# Convertir le temps de chaque période en temps cumulé en minutes\n",
    "def calculate_total_time(row):\n",
    "    minutes, seconds = map(int, row['PCTIMESTRING'].split(\":\"))\n",
    "    period_offset = (row['PERIOD'] - 1) * 12  # Chaque période ajoute 12 minutes\n",
    "    return 48 - (period_offset + minutes + seconds / 60)  # Calcul du temps restant en minutes\n",
    "\n",
    "play_by_play_df['TOTAL_MINUTES'] = play_by_play_df.apply(calculate_total_time, axis=1)\n",
    "play_by_play_df"
   ]
  },
  {
   "cell_type": "code",
   "execution_count": 26,
   "metadata": {},
   "outputs": [
    {
     "data": {
      "text/html": [
       "<div>\n",
       "<style scoped>\n",
       "    .dataframe tbody tr th:only-of-type {\n",
       "        vertical-align: middle;\n",
       "    }\n",
       "\n",
       "    .dataframe tbody tr th {\n",
       "        vertical-align: top;\n",
       "    }\n",
       "\n",
       "    .dataframe thead th {\n",
       "        text-align: right;\n",
       "    }\n",
       "</style>\n",
       "<table border=\"1\" class=\"dataframe\">\n",
       "  <thead>\n",
       "    <tr style=\"text-align: right;\">\n",
       "      <th></th>\n",
       "      <th>PCTIMESTRING</th>\n",
       "      <th>PERIOD</th>\n",
       "      <th>SCORE</th>\n",
       "      <th>HOMEDESCRIPTION</th>\n",
       "      <th>VISITORDESCRIPTION</th>\n",
       "    </tr>\n",
       "  </thead>\n",
       "  <tbody>\n",
       "    <tr>\n",
       "      <th>0</th>\n",
       "      <td>12:00</td>\n",
       "      <td>1</td>\n",
       "      <td>None</td>\n",
       "      <td>None</td>\n",
       "      <td>None</td>\n",
       "    </tr>\n",
       "    <tr>\n",
       "      <th>1</th>\n",
       "      <td>12:00</td>\n",
       "      <td>1</td>\n",
       "      <td>None</td>\n",
       "      <td>Jump Ball Gafford vs. Wembanyama: Tip to Barnes</td>\n",
       "      <td>None</td>\n",
       "    </tr>\n",
       "    <tr>\n",
       "      <th>2</th>\n",
       "      <td>11:38</td>\n",
       "      <td>1</td>\n",
       "      <td>None</td>\n",
       "      <td>None</td>\n",
       "      <td>MISS Champagnie 3PT Jump Shot</td>\n",
       "    </tr>\n",
       "    <tr>\n",
       "      <th>3</th>\n",
       "      <td>11:35</td>\n",
       "      <td>1</td>\n",
       "      <td>None</td>\n",
       "      <td>Thompson REBOUND (Off:0 Def:1)</td>\n",
       "      <td>None</td>\n",
       "    </tr>\n",
       "    <tr>\n",
       "      <th>4</th>\n",
       "      <td>11:29</td>\n",
       "      <td>1</td>\n",
       "      <td>None</td>\n",
       "      <td>MISS Irving 24' 3PT Running Jump Shot</td>\n",
       "      <td>None</td>\n",
       "    </tr>\n",
       "    <tr>\n",
       "      <th>5</th>\n",
       "      <td>11:26</td>\n",
       "      <td>1</td>\n",
       "      <td>None</td>\n",
       "      <td>None</td>\n",
       "      <td>Champagnie REBOUND (Off:0 Def:1)</td>\n",
       "    </tr>\n",
       "    <tr>\n",
       "      <th>6</th>\n",
       "      <td>11:20</td>\n",
       "      <td>1</td>\n",
       "      <td>3 - 0</td>\n",
       "      <td>None</td>\n",
       "      <td>Champagnie 25' 3PT Jump Shot (3 PTS) (Paul 1 AST)</td>\n",
       "    </tr>\n",
       "    <tr>\n",
       "      <th>7</th>\n",
       "      <td>11:02</td>\n",
       "      <td>1</td>\n",
       "      <td>None</td>\n",
       "      <td>MISS Dončić 24' 3PT Step Back Jump Shot</td>\n",
       "      <td>None</td>\n",
       "    </tr>\n",
       "    <tr>\n",
       "      <th>8</th>\n",
       "      <td>11:00</td>\n",
       "      <td>1</td>\n",
       "      <td>None</td>\n",
       "      <td>None</td>\n",
       "      <td>Paul REBOUND (Off:0 Def:1)</td>\n",
       "    </tr>\n",
       "    <tr>\n",
       "      <th>9</th>\n",
       "      <td>11:00</td>\n",
       "      <td>1</td>\n",
       "      <td>None</td>\n",
       "      <td>Irving P.FOUL (P1.T1) (R.Mott)</td>\n",
       "      <td>None</td>\n",
       "    </tr>\n",
       "  </tbody>\n",
       "</table>\n",
       "</div>"
      ],
      "text/plain": [
       "  PCTIMESTRING  PERIOD  SCORE  \\\n",
       "0        12:00       1   None   \n",
       "1        12:00       1   None   \n",
       "2        11:38       1   None   \n",
       "3        11:35       1   None   \n",
       "4        11:29       1   None   \n",
       "5        11:26       1   None   \n",
       "6        11:20       1  3 - 0   \n",
       "7        11:02       1   None   \n",
       "8        11:00       1   None   \n",
       "9        11:00       1   None   \n",
       "\n",
       "                                   HOMEDESCRIPTION  \\\n",
       "0                                             None   \n",
       "1  Jump Ball Gafford vs. Wembanyama: Tip to Barnes   \n",
       "2                                             None   \n",
       "3                   Thompson REBOUND (Off:0 Def:1)   \n",
       "4            MISS Irving 24' 3PT Running Jump Shot   \n",
       "5                                             None   \n",
       "6                                             None   \n",
       "7          MISS Dončić 24' 3PT Step Back Jump Shot   \n",
       "8                                             None   \n",
       "9                   Irving P.FOUL (P1.T1) (R.Mott)   \n",
       "\n",
       "                                  VISITORDESCRIPTION  \n",
       "0                                               None  \n",
       "1                                               None  \n",
       "2                      MISS Champagnie 3PT Jump Shot  \n",
       "3                                               None  \n",
       "4                                               None  \n",
       "5                   Champagnie REBOUND (Off:0 Def:1)  \n",
       "6  Champagnie 25' 3PT Jump Shot (3 PTS) (Paul 1 AST)  \n",
       "7                                               None  \n",
       "8                         Paul REBOUND (Off:0 Def:1)  \n",
       "9                                               None  "
      ]
     },
     "execution_count": 26,
     "metadata": {},
     "output_type": "execute_result"
    }
   ],
   "source": [
    "df[['PCTIMESTRING', 'PERIOD', 'SCORE', 'HOMEDESCRIPTION', 'VISITORDESCRIPTION']].head(10)"
   ]
  },
  {
   "cell_type": "code",
   "execution_count": 28,
   "metadata": {},
   "outputs": [],
   "source": [
    "import pandas as pd"
   ]
  },
  {
   "cell_type": "code",
   "execution_count": 33,
   "metadata": {},
   "outputs": [
    {
     "name": "stderr",
     "output_type": "stream",
     "text": [
      "/var/folders/vs/q6987dsj0m34ppwb7xwtgx440000gn/T/ipykernel_78780/1406797564.py:9: SettingWithCopyWarning:\n",
      "\n",
      "\n",
      "A value is trying to be set on a copy of a slice from a DataFrame.\n",
      "Try using .loc[row_indexer,col_indexer] = value instead\n",
      "\n",
      "See the caveats in the documentation: https://pandas.pydata.org/pandas-docs/stable/user_guide/indexing.html#returning-a-view-versus-a-copy\n",
      "\n",
      "/var/folders/vs/q6987dsj0m34ppwb7xwtgx440000gn/T/ipykernel_78780/1406797564.py:13: SettingWithCopyWarning:\n",
      "\n",
      "\n",
      "A value is trying to be set on a copy of a slice from a DataFrame.\n",
      "Try using .loc[row_indexer,col_indexer] = value instead\n",
      "\n",
      "See the caveats in the documentation: https://pandas.pydata.org/pandas-docs/stable/user_guide/indexing.html#returning-a-view-versus-a-copy\n",
      "\n",
      "/var/folders/vs/q6987dsj0m34ppwb7xwtgx440000gn/T/ipykernel_78780/1406797564.py:14: SettingWithCopyWarning:\n",
      "\n",
      "\n",
      "A value is trying to be set on a copy of a slice from a DataFrame.\n",
      "Try using .loc[row_indexer,col_indexer] = value instead\n",
      "\n",
      "See the caveats in the documentation: https://pandas.pydata.org/pandas-docs/stable/user_guide/indexing.html#returning-a-view-versus-a-copy\n",
      "\n",
      "/var/folders/vs/q6987dsj0m34ppwb7xwtgx440000gn/T/ipykernel_78780/1406797564.py:17: SettingWithCopyWarning:\n",
      "\n",
      "\n",
      "A value is trying to be set on a copy of a slice from a DataFrame\n",
      "\n",
      "See the caveats in the documentation: https://pandas.pydata.org/pandas-docs/stable/user_guide/indexing.html#returning-a-view-versus-a-copy\n",
      "\n",
      "/var/folders/vs/q6987dsj0m34ppwb7xwtgx440000gn/T/ipykernel_78780/1406797564.py:18: SettingWithCopyWarning:\n",
      "\n",
      "\n",
      "A value is trying to be set on a copy of a slice from a DataFrame\n",
      "\n",
      "See the caveats in the documentation: https://pandas.pydata.org/pandas-docs/stable/user_guide/indexing.html#returning-a-view-versus-a-copy\n",
      "\n",
      "/var/folders/vs/q6987dsj0m34ppwb7xwtgx440000gn/T/ipykernel_78780/1406797564.py:19: SettingWithCopyWarning:\n",
      "\n",
      "\n",
      "A value is trying to be set on a copy of a slice from a DataFrame.\n",
      "Try using .loc[row_indexer,col_indexer] = value instead\n",
      "\n",
      "See the caveats in the documentation: https://pandas.pydata.org/pandas-docs/stable/user_guide/indexing.html#returning-a-view-versus-a-copy\n",
      "\n",
      "/var/folders/vs/q6987dsj0m34ppwb7xwtgx440000gn/T/ipykernel_78780/1406797564.py:22: SettingWithCopyWarning:\n",
      "\n",
      "\n",
      "A value is trying to be set on a copy of a slice from a DataFrame.\n",
      "Try using .loc[row_indexer,col_indexer] = value instead\n",
      "\n",
      "See the caveats in the documentation: https://pandas.pydata.org/pandas-docs/stable/user_guide/indexing.html#returning-a-view-versus-a-copy\n",
      "\n"
     ]
    },
    {
     "data": {
      "application/vnd.plotly.v1+json": {
       "config": {
        "plotlyServerURL": "https://plot.ly"
       },
       "data": [
        {
         "fillpattern": {
          "shape": ""
         },
         "hovertemplate": "Temps écoulé (mm:ss)=%{x}<br>Écart de Score=%{y}<extra></extra>",
         "legendgroup": "",
         "line": {
          "color": "#636efa",
          "width": 0.5
         },
         "marker": {
          "symbol": "circle"
         },
         "mode": "lines",
         "name": "",
         "orientation": "v",
         "showlegend": false,
         "stackgroup": "1",
         "type": "scatter",
         "x": [
          "00:00",
          "00:40",
          "01:23",
          "01:36",
          "02:44",
          "03:43",
          "03:54",
          "04:07",
          "04:26",
          "04:47",
          "05:01",
          "05:30",
          "06:30",
          "06:50",
          "07:00",
          "07:18",
          "07:36",
          "08:05",
          "09:18",
          "09:41",
          "12:00",
          "12:00",
          "12:43",
          "14:09",
          "14:09",
          "14:41",
          "15:33",
          "15:45",
          "15:45",
          "15:54",
          "16:07",
          "16:41",
          "16:56",
          "17:12",
          "17:33",
          "17:52",
          "18:45",
          "19:14",
          "19:36",
          "19:59",
          "20:15",
          "20:33",
          "21:38",
          "21:53",
          "22:12",
          "22:30",
          "22:44",
          "22:51",
          "24:00",
          "24:00",
          "24:56",
          "25:07",
          "25:07",
          "25:29",
          "26:03",
          "26:15",
          "26:15",
          "26:55",
          "27:23",
          "27:41",
          "27:41",
          "28:08",
          "28:23",
          "28:48",
          "29:08",
          "29:32",
          "29:52",
          "30:48",
          "30:48",
          "31:07",
          "31:42",
          "31:52",
          "31:53",
          "31:53",
          "32:01",
          "32:01",
          "32:20",
          "32:34",
          "32:37",
          "32:57",
          "33:01",
          "33:01",
          "33:16",
          "33:16",
          "33:34",
          "33:50",
          "34:04",
          "34:13",
          "35:08",
          "35:50",
          "36:00",
          "36:00",
          "36:24",
          "36:24",
          "36:24",
          "36:30",
          "37:00",
          "37:00",
          "37:08",
          "37:30",
          "38:15",
          "39:10",
          "39:31",
          "39:45",
          "40:08",
          "41:22",
          "41:44",
          "41:59",
          "42:20",
          "42:20",
          "42:32",
          "42:40",
          "42:40",
          "42:50",
          "43:20",
          "43:34",
          "43:34",
          "43:51",
          "44:10",
          "44:30",
          "45:31",
          "46:00",
          "46:40",
          "46:49",
          "47:06",
          "48:00"
         ],
         "xaxis": "x",
         "y": [
          0,
          3,
          6,
          4,
          2,
          4,
          1,
          3,
          1,
          -2,
          0,
          -1,
          2,
          5,
          3,
          5,
          4,
          2,
          0,
          2,
          2,
          2,
          0,
          1,
          2,
          4,
          1,
          2,
          3,
          1,
          3,
          2,
          5,
          3,
          6,
          4,
          1,
          3,
          0,
          2,
          0,
          2,
          0,
          3,
          5,
          3,
          5,
          2,
          2,
          2,
          -1,
          0,
          1,
          -2,
          -5,
          -4,
          -3,
          -5,
          -8,
          -9,
          -10,
          -8,
          -11,
          -14,
          -12,
          -10,
          -7,
          -8,
          -9,
          -6,
          -3,
          -4,
          -3,
          -2,
          -3,
          -4,
          -2,
          -4,
          -3,
          -5,
          -4,
          -3,
          -4,
          -5,
          -8,
          -6,
          -8,
          -6,
          -8,
          -7,
          -7,
          -7,
          -7,
          -8,
          -9,
          -11,
          -9,
          -8,
          -11,
          -14,
          -17,
          -20,
          -18,
          -21,
          -19,
          -21,
          -18,
          -21,
          -20,
          -19,
          -20,
          -18,
          -17,
          -19,
          -16,
          -17,
          -18,
          -17,
          -15,
          -13,
          -11,
          -13,
          -11,
          -13,
          -11,
          -11
         ],
         "yaxis": "y"
        }
       ],
       "layout": {
        "legend": {
         "tracegroupgap": 0
        },
        "showlegend": false,
        "template": {
         "data": {
          "bar": [
           {
            "error_x": {
             "color": "#2a3f5f"
            },
            "error_y": {
             "color": "#2a3f5f"
            },
            "marker": {
             "line": {
              "color": "#E5ECF6",
              "width": 0.5
             },
             "pattern": {
              "fillmode": "overlay",
              "size": 10,
              "solidity": 0.2
             }
            },
            "type": "bar"
           }
          ],
          "barpolar": [
           {
            "marker": {
             "line": {
              "color": "#E5ECF6",
              "width": 0.5
             },
             "pattern": {
              "fillmode": "overlay",
              "size": 10,
              "solidity": 0.2
             }
            },
            "type": "barpolar"
           }
          ],
          "carpet": [
           {
            "aaxis": {
             "endlinecolor": "#2a3f5f",
             "gridcolor": "white",
             "linecolor": "white",
             "minorgridcolor": "white",
             "startlinecolor": "#2a3f5f"
            },
            "baxis": {
             "endlinecolor": "#2a3f5f",
             "gridcolor": "white",
             "linecolor": "white",
             "minorgridcolor": "white",
             "startlinecolor": "#2a3f5f"
            },
            "type": "carpet"
           }
          ],
          "choropleth": [
           {
            "colorbar": {
             "outlinewidth": 0,
             "ticks": ""
            },
            "type": "choropleth"
           }
          ],
          "contour": [
           {
            "colorbar": {
             "outlinewidth": 0,
             "ticks": ""
            },
            "colorscale": [
             [
              0,
              "#0d0887"
             ],
             [
              0.1111111111111111,
              "#46039f"
             ],
             [
              0.2222222222222222,
              "#7201a8"
             ],
             [
              0.3333333333333333,
              "#9c179e"
             ],
             [
              0.4444444444444444,
              "#bd3786"
             ],
             [
              0.5555555555555556,
              "#d8576b"
             ],
             [
              0.6666666666666666,
              "#ed7953"
             ],
             [
              0.7777777777777778,
              "#fb9f3a"
             ],
             [
              0.8888888888888888,
              "#fdca26"
             ],
             [
              1,
              "#f0f921"
             ]
            ],
            "type": "contour"
           }
          ],
          "contourcarpet": [
           {
            "colorbar": {
             "outlinewidth": 0,
             "ticks": ""
            },
            "type": "contourcarpet"
           }
          ],
          "heatmap": [
           {
            "colorbar": {
             "outlinewidth": 0,
             "ticks": ""
            },
            "colorscale": [
             [
              0,
              "#0d0887"
             ],
             [
              0.1111111111111111,
              "#46039f"
             ],
             [
              0.2222222222222222,
              "#7201a8"
             ],
             [
              0.3333333333333333,
              "#9c179e"
             ],
             [
              0.4444444444444444,
              "#bd3786"
             ],
             [
              0.5555555555555556,
              "#d8576b"
             ],
             [
              0.6666666666666666,
              "#ed7953"
             ],
             [
              0.7777777777777778,
              "#fb9f3a"
             ],
             [
              0.8888888888888888,
              "#fdca26"
             ],
             [
              1,
              "#f0f921"
             ]
            ],
            "type": "heatmap"
           }
          ],
          "heatmapgl": [
           {
            "colorbar": {
             "outlinewidth": 0,
             "ticks": ""
            },
            "colorscale": [
             [
              0,
              "#0d0887"
             ],
             [
              0.1111111111111111,
              "#46039f"
             ],
             [
              0.2222222222222222,
              "#7201a8"
             ],
             [
              0.3333333333333333,
              "#9c179e"
             ],
             [
              0.4444444444444444,
              "#bd3786"
             ],
             [
              0.5555555555555556,
              "#d8576b"
             ],
             [
              0.6666666666666666,
              "#ed7953"
             ],
             [
              0.7777777777777778,
              "#fb9f3a"
             ],
             [
              0.8888888888888888,
              "#fdca26"
             ],
             [
              1,
              "#f0f921"
             ]
            ],
            "type": "heatmapgl"
           }
          ],
          "histogram": [
           {
            "marker": {
             "pattern": {
              "fillmode": "overlay",
              "size": 10,
              "solidity": 0.2
             }
            },
            "type": "histogram"
           }
          ],
          "histogram2d": [
           {
            "colorbar": {
             "outlinewidth": 0,
             "ticks": ""
            },
            "colorscale": [
             [
              0,
              "#0d0887"
             ],
             [
              0.1111111111111111,
              "#46039f"
             ],
             [
              0.2222222222222222,
              "#7201a8"
             ],
             [
              0.3333333333333333,
              "#9c179e"
             ],
             [
              0.4444444444444444,
              "#bd3786"
             ],
             [
              0.5555555555555556,
              "#d8576b"
             ],
             [
              0.6666666666666666,
              "#ed7953"
             ],
             [
              0.7777777777777778,
              "#fb9f3a"
             ],
             [
              0.8888888888888888,
              "#fdca26"
             ],
             [
              1,
              "#f0f921"
             ]
            ],
            "type": "histogram2d"
           }
          ],
          "histogram2dcontour": [
           {
            "colorbar": {
             "outlinewidth": 0,
             "ticks": ""
            },
            "colorscale": [
             [
              0,
              "#0d0887"
             ],
             [
              0.1111111111111111,
              "#46039f"
             ],
             [
              0.2222222222222222,
              "#7201a8"
             ],
             [
              0.3333333333333333,
              "#9c179e"
             ],
             [
              0.4444444444444444,
              "#bd3786"
             ],
             [
              0.5555555555555556,
              "#d8576b"
             ],
             [
              0.6666666666666666,
              "#ed7953"
             ],
             [
              0.7777777777777778,
              "#fb9f3a"
             ],
             [
              0.8888888888888888,
              "#fdca26"
             ],
             [
              1,
              "#f0f921"
             ]
            ],
            "type": "histogram2dcontour"
           }
          ],
          "mesh3d": [
           {
            "colorbar": {
             "outlinewidth": 0,
             "ticks": ""
            },
            "type": "mesh3d"
           }
          ],
          "parcoords": [
           {
            "line": {
             "colorbar": {
              "outlinewidth": 0,
              "ticks": ""
             }
            },
            "type": "parcoords"
           }
          ],
          "pie": [
           {
            "automargin": true,
            "type": "pie"
           }
          ],
          "scatter": [
           {
            "fillpattern": {
             "fillmode": "overlay",
             "size": 10,
             "solidity": 0.2
            },
            "type": "scatter"
           }
          ],
          "scatter3d": [
           {
            "line": {
             "colorbar": {
              "outlinewidth": 0,
              "ticks": ""
             }
            },
            "marker": {
             "colorbar": {
              "outlinewidth": 0,
              "ticks": ""
             }
            },
            "type": "scatter3d"
           }
          ],
          "scattercarpet": [
           {
            "marker": {
             "colorbar": {
              "outlinewidth": 0,
              "ticks": ""
             }
            },
            "type": "scattercarpet"
           }
          ],
          "scattergeo": [
           {
            "marker": {
             "colorbar": {
              "outlinewidth": 0,
              "ticks": ""
             }
            },
            "type": "scattergeo"
           }
          ],
          "scattergl": [
           {
            "marker": {
             "colorbar": {
              "outlinewidth": 0,
              "ticks": ""
             }
            },
            "type": "scattergl"
           }
          ],
          "scattermapbox": [
           {
            "marker": {
             "colorbar": {
              "outlinewidth": 0,
              "ticks": ""
             }
            },
            "type": "scattermapbox"
           }
          ],
          "scatterpolar": [
           {
            "marker": {
             "colorbar": {
              "outlinewidth": 0,
              "ticks": ""
             }
            },
            "type": "scatterpolar"
           }
          ],
          "scatterpolargl": [
           {
            "marker": {
             "colorbar": {
              "outlinewidth": 0,
              "ticks": ""
             }
            },
            "type": "scatterpolargl"
           }
          ],
          "scatterternary": [
           {
            "marker": {
             "colorbar": {
              "outlinewidth": 0,
              "ticks": ""
             }
            },
            "type": "scatterternary"
           }
          ],
          "surface": [
           {
            "colorbar": {
             "outlinewidth": 0,
             "ticks": ""
            },
            "colorscale": [
             [
              0,
              "#0d0887"
             ],
             [
              0.1111111111111111,
              "#46039f"
             ],
             [
              0.2222222222222222,
              "#7201a8"
             ],
             [
              0.3333333333333333,
              "#9c179e"
             ],
             [
              0.4444444444444444,
              "#bd3786"
             ],
             [
              0.5555555555555556,
              "#d8576b"
             ],
             [
              0.6666666666666666,
              "#ed7953"
             ],
             [
              0.7777777777777778,
              "#fb9f3a"
             ],
             [
              0.8888888888888888,
              "#fdca26"
             ],
             [
              1,
              "#f0f921"
             ]
            ],
            "type": "surface"
           }
          ],
          "table": [
           {
            "cells": {
             "fill": {
              "color": "#EBF0F8"
             },
             "line": {
              "color": "white"
             }
            },
            "header": {
             "fill": {
              "color": "#C8D4E3"
             },
             "line": {
              "color": "white"
             }
            },
            "type": "table"
           }
          ]
         },
         "layout": {
          "annotationdefaults": {
           "arrowcolor": "#2a3f5f",
           "arrowhead": 0,
           "arrowwidth": 1
          },
          "autotypenumbers": "strict",
          "coloraxis": {
           "colorbar": {
            "outlinewidth": 0,
            "ticks": ""
           }
          },
          "colorscale": {
           "diverging": [
            [
             0,
             "#8e0152"
            ],
            [
             0.1,
             "#c51b7d"
            ],
            [
             0.2,
             "#de77ae"
            ],
            [
             0.3,
             "#f1b6da"
            ],
            [
             0.4,
             "#fde0ef"
            ],
            [
             0.5,
             "#f7f7f7"
            ],
            [
             0.6,
             "#e6f5d0"
            ],
            [
             0.7,
             "#b8e186"
            ],
            [
             0.8,
             "#7fbc41"
            ],
            [
             0.9,
             "#4d9221"
            ],
            [
             1,
             "#276419"
            ]
           ],
           "sequential": [
            [
             0,
             "#0d0887"
            ],
            [
             0.1111111111111111,
             "#46039f"
            ],
            [
             0.2222222222222222,
             "#7201a8"
            ],
            [
             0.3333333333333333,
             "#9c179e"
            ],
            [
             0.4444444444444444,
             "#bd3786"
            ],
            [
             0.5555555555555556,
             "#d8576b"
            ],
            [
             0.6666666666666666,
             "#ed7953"
            ],
            [
             0.7777777777777778,
             "#fb9f3a"
            ],
            [
             0.8888888888888888,
             "#fdca26"
            ],
            [
             1,
             "#f0f921"
            ]
           ],
           "sequentialminus": [
            [
             0,
             "#0d0887"
            ],
            [
             0.1111111111111111,
             "#46039f"
            ],
            [
             0.2222222222222222,
             "#7201a8"
            ],
            [
             0.3333333333333333,
             "#9c179e"
            ],
            [
             0.4444444444444444,
             "#bd3786"
            ],
            [
             0.5555555555555556,
             "#d8576b"
            ],
            [
             0.6666666666666666,
             "#ed7953"
            ],
            [
             0.7777777777777778,
             "#fb9f3a"
            ],
            [
             0.8888888888888888,
             "#fdca26"
            ],
            [
             1,
             "#f0f921"
            ]
           ]
          },
          "colorway": [
           "#636efa",
           "#EF553B",
           "#00cc96",
           "#ab63fa",
           "#FFA15A",
           "#19d3f3",
           "#FF6692",
           "#B6E880",
           "#FF97FF",
           "#FECB52"
          ],
          "font": {
           "color": "#2a3f5f"
          },
          "geo": {
           "bgcolor": "white",
           "lakecolor": "white",
           "landcolor": "#E5ECF6",
           "showlakes": true,
           "showland": true,
           "subunitcolor": "white"
          },
          "hoverlabel": {
           "align": "left"
          },
          "hovermode": "closest",
          "mapbox": {
           "style": "light"
          },
          "paper_bgcolor": "white",
          "plot_bgcolor": "#E5ECF6",
          "polar": {
           "angularaxis": {
            "gridcolor": "white",
            "linecolor": "white",
            "ticks": ""
           },
           "bgcolor": "#E5ECF6",
           "radialaxis": {
            "gridcolor": "white",
            "linecolor": "white",
            "ticks": ""
           }
          },
          "scene": {
           "xaxis": {
            "backgroundcolor": "#E5ECF6",
            "gridcolor": "white",
            "gridwidth": 2,
            "linecolor": "white",
            "showbackground": true,
            "ticks": "",
            "zerolinecolor": "white"
           },
           "yaxis": {
            "backgroundcolor": "#E5ECF6",
            "gridcolor": "white",
            "gridwidth": 2,
            "linecolor": "white",
            "showbackground": true,
            "ticks": "",
            "zerolinecolor": "white"
           },
           "zaxis": {
            "backgroundcolor": "#E5ECF6",
            "gridcolor": "white",
            "gridwidth": 2,
            "linecolor": "white",
            "showbackground": true,
            "ticks": "",
            "zerolinecolor": "white"
           }
          },
          "shapedefaults": {
           "line": {
            "color": "#2a3f5f"
           }
          },
          "ternary": {
           "aaxis": {
            "gridcolor": "white",
            "linecolor": "white",
            "ticks": ""
           },
           "baxis": {
            "gridcolor": "white",
            "linecolor": "white",
            "ticks": ""
           },
           "bgcolor": "#E5ECF6",
           "caxis": {
            "gridcolor": "white",
            "linecolor": "white",
            "ticks": ""
           }
          },
          "title": {
           "x": 0.05
          },
          "xaxis": {
           "automargin": true,
           "gridcolor": "white",
           "linecolor": "white",
           "ticks": "",
           "title": {
            "standoff": 15
           },
           "zerolinecolor": "white",
           "zerolinewidth": 2
          },
          "yaxis": {
           "automargin": true,
           "gridcolor": "white",
           "linecolor": "white",
           "ticks": "",
           "title": {
            "standoff": 15
           },
           "zerolinecolor": "white",
           "zerolinewidth": 2
          }
         }
        },
        "title": {
         "text": "Évolution de l'écart de score au fil du match"
        },
        "xaxis": {
         "anchor": "y",
         "domain": [
          0,
          1
         ],
         "title": {
          "text": "Temps écoulé (mm:ss)"
         }
        },
        "yaxis": {
         "anchor": "x",
         "domain": [
          0,
          1
         ],
         "title": {
          "text": "Écart de Score"
         },
         "zeroline": true
        }
       }
      }
     },
     "metadata": {},
     "output_type": "display_data"
    }
   ],
   "source": [
    "play_by_play_df = df[['PCTIMESTRING', 'PERIOD', 'SCORE', 'HOMEDESCRIPTION', 'VISITORDESCRIPTION']]\n",
    "\n",
    "# Étape 3 : Convertir le temps de chaque période en temps cumulé en minutes\n",
    "def calculate_total_time(row):\n",
    "    minutes, seconds = map(int, row['PCTIMESTRING'].split(\":\"))\n",
    "    period_offset = (row['PERIOD'] - 1) * 12  # Chaque période ajoute 12 minutes\n",
    "    return period_offset + (12 - minutes) - (seconds / 60)  # Temps écoulé en minutes\n",
    "\n",
    "play_by_play_df['TOTAL_MINUTES'] = play_by_play_df.apply(calculate_total_time, axis=1)\n",
    "\n",
    "# Étape 4 : Extraire les scores et remplir les valeurs manquantes\n",
    "# Remplir les scores et les diviser en home et away\n",
    "play_by_play_df['HOME_SCORE'] = play_by_play_df['SCORE'].apply(lambda x: int(x.split(\" - \")[0]) if pd.notna(x) else None)\n",
    "play_by_play_df['AWAY_SCORE'] = play_by_play_df['SCORE'].apply(lambda x: int(x.split(\" - \")[1]) if pd.notna(x) else None)\n",
    "\n",
    "# Remplir les valeurs manquantes pour obtenir l’évolution complète du score\n",
    "play_by_play_df['HOME_SCORE'].ffill(inplace=True)\n",
    "play_by_play_df['AWAY_SCORE'].ffill(inplace=True)\n",
    "play_by_play_df[['HOME_SCORE', 'AWAY_SCORE']] = play_by_play_df[['HOME_SCORE', 'AWAY_SCORE']].fillna(0)\n",
    "\n",
    "# Calculer l'écart de score\n",
    "play_by_play_df['SCORE_DIFF'] = play_by_play_df['HOME_SCORE'] - play_by_play_df['AWAY_SCORE']\n",
    "\n",
    "# Étape 5 : Filtrer pour garder les lignes où SCORE est non null\n",
    "score_changes = play_by_play_df.dropna(subset=['SCORE']).reset_index(drop=True)\n",
    "\n",
    "# Ajouter un point de départ à 0 minute avec un écart de score de 0\n",
    "start_point = pd.DataFrame({'TOTAL_MINUTES': [0], 'SCORE_DIFF': [0]})\n",
    "score_changes = pd.concat([start_point, score_changes], ignore_index=True)\n",
    "\n",
    "# Convertir TOTAL_MINUTES en format mm:ss\n",
    "score_changes['TOTAL_MINUTES'] = score_changes['TOTAL_MINUTES'].apply(lambda x: f\"{int(x):02d}:{int((x % 1) * 60):02d}\")\n",
    "\n",
    "# Étape 6 : Créer le graphique\n",
    "fig = px.area(score_changes, x=\"TOTAL_MINUTES\", y=\"SCORE_DIFF\",\n",
    "                labels={\"TOTAL_MINUTES\": \"Temps écoulé (mm:ss)\", \"SCORE_DIFF\": \"Écart de Score\"},\n",
    "                title=\"Évolution de l'écart de score au fil du match\")\n",
    "\n",
    "# Ajustements de style pour l'aire\n",
    "fig.update_traces(line=dict(width=0.5))\n",
    "fig.update_layout(\n",
    "    yaxis=dict(title=\"Écart de Score\", zeroline=True),\n",
    "    xaxis=dict(title=\"Temps écoulé (mm:ss)\"),\n",
    "    showlegend=False\n",
    ")\n",
    "\n",
    "# Afficher le graphique\n",
    "fig.show()"
   ]
  },
  {
   "cell_type": "code",
   "execution_count": 32,
   "metadata": {},
   "outputs": [
    {
     "data": {
      "text/html": [
       "<div>\n",
       "<style scoped>\n",
       "    .dataframe tbody tr th:only-of-type {\n",
       "        vertical-align: middle;\n",
       "    }\n",
       "\n",
       "    .dataframe tbody tr th {\n",
       "        vertical-align: top;\n",
       "    }\n",
       "\n",
       "    .dataframe thead th {\n",
       "        text-align: right;\n",
       "    }\n",
       "</style>\n",
       "<table border=\"1\" class=\"dataframe\">\n",
       "  <thead>\n",
       "    <tr style=\"text-align: right;\">\n",
       "      <th></th>\n",
       "      <th>PCTIMESTRING</th>\n",
       "      <th>PERIOD</th>\n",
       "      <th>SCORE</th>\n",
       "      <th>HOMEDESCRIPTION</th>\n",
       "      <th>VISITORDESCRIPTION</th>\n",
       "      <th>TOTAL_MINUTES</th>\n",
       "      <th>HOME_SCORE</th>\n",
       "      <th>AWAY_SCORE</th>\n",
       "      <th>SCORE_DIFF</th>\n",
       "    </tr>\n",
       "  </thead>\n",
       "  <tbody>\n",
       "    <tr>\n",
       "      <th>0</th>\n",
       "      <td>12:00</td>\n",
       "      <td>1</td>\n",
       "      <td>None</td>\n",
       "      <td>None</td>\n",
       "      <td>None</td>\n",
       "      <td>0.000000</td>\n",
       "      <td>0.0</td>\n",
       "      <td>0.0</td>\n",
       "      <td>0.0</td>\n",
       "    </tr>\n",
       "    <tr>\n",
       "      <th>1</th>\n",
       "      <td>12:00</td>\n",
       "      <td>1</td>\n",
       "      <td>None</td>\n",
       "      <td>Jump Ball Gafford vs. Wembanyama: Tip to Barnes</td>\n",
       "      <td>None</td>\n",
       "      <td>0.000000</td>\n",
       "      <td>0.0</td>\n",
       "      <td>0.0</td>\n",
       "      <td>0.0</td>\n",
       "    </tr>\n",
       "    <tr>\n",
       "      <th>2</th>\n",
       "      <td>11:38</td>\n",
       "      <td>1</td>\n",
       "      <td>None</td>\n",
       "      <td>None</td>\n",
       "      <td>MISS Champagnie 3PT Jump Shot</td>\n",
       "      <td>0.366667</td>\n",
       "      <td>0.0</td>\n",
       "      <td>0.0</td>\n",
       "      <td>0.0</td>\n",
       "    </tr>\n",
       "    <tr>\n",
       "      <th>3</th>\n",
       "      <td>11:35</td>\n",
       "      <td>1</td>\n",
       "      <td>None</td>\n",
       "      <td>Thompson REBOUND (Off:0 Def:1)</td>\n",
       "      <td>None</td>\n",
       "      <td>0.416667</td>\n",
       "      <td>0.0</td>\n",
       "      <td>0.0</td>\n",
       "      <td>0.0</td>\n",
       "    </tr>\n",
       "    <tr>\n",
       "      <th>4</th>\n",
       "      <td>11:29</td>\n",
       "      <td>1</td>\n",
       "      <td>None</td>\n",
       "      <td>MISS Irving 24' 3PT Running Jump Shot</td>\n",
       "      <td>None</td>\n",
       "      <td>0.516667</td>\n",
       "      <td>0.0</td>\n",
       "      <td>0.0</td>\n",
       "      <td>0.0</td>\n",
       "    </tr>\n",
       "    <tr>\n",
       "      <th>...</th>\n",
       "      <td>...</td>\n",
       "      <td>...</td>\n",
       "      <td>...</td>\n",
       "      <td>...</td>\n",
       "      <td>...</td>\n",
       "      <td>...</td>\n",
       "      <td>...</td>\n",
       "      <td>...</td>\n",
       "      <td>...</td>\n",
       "    </tr>\n",
       "    <tr>\n",
       "      <th>492</th>\n",
       "      <td>0:29</td>\n",
       "      <td>4</td>\n",
       "      <td>None</td>\n",
       "      <td>None</td>\n",
       "      <td>Branham REBOUND (Off:0 Def:2)</td>\n",
       "      <td>47.516667</td>\n",
       "      <td>109.0</td>\n",
       "      <td>120.0</td>\n",
       "      <td>-11.0</td>\n",
       "    </tr>\n",
       "    <tr>\n",
       "      <th>493</th>\n",
       "      <td>0:26</td>\n",
       "      <td>4</td>\n",
       "      <td>None</td>\n",
       "      <td>None</td>\n",
       "      <td>MISS Wesley 4' Running Reverse Layup</td>\n",
       "      <td>47.566667</td>\n",
       "      <td>109.0</td>\n",
       "      <td>120.0</td>\n",
       "      <td>-11.0</td>\n",
       "    </tr>\n",
       "    <tr>\n",
       "      <th>494</th>\n",
       "      <td>0:24</td>\n",
       "      <td>4</td>\n",
       "      <td>None</td>\n",
       "      <td>Dinwiddie REBOUND (Off:0 Def:1)</td>\n",
       "      <td>None</td>\n",
       "      <td>47.600000</td>\n",
       "      <td>109.0</td>\n",
       "      <td>120.0</td>\n",
       "      <td>-11.0</td>\n",
       "    </tr>\n",
       "    <tr>\n",
       "      <th>495</th>\n",
       "      <td>0:02</td>\n",
       "      <td>4</td>\n",
       "      <td>None</td>\n",
       "      <td>MAVERICKS Turnover: Shot Clock (T#10)</td>\n",
       "      <td>None</td>\n",
       "      <td>47.966667</td>\n",
       "      <td>109.0</td>\n",
       "      <td>120.0</td>\n",
       "      <td>-11.0</td>\n",
       "    </tr>\n",
       "    <tr>\n",
       "      <th>496</th>\n",
       "      <td>0:00</td>\n",
       "      <td>4</td>\n",
       "      <td>109 - 120</td>\n",
       "      <td>None</td>\n",
       "      <td>None</td>\n",
       "      <td>48.000000</td>\n",
       "      <td>109.0</td>\n",
       "      <td>120.0</td>\n",
       "      <td>-11.0</td>\n",
       "    </tr>\n",
       "  </tbody>\n",
       "</table>\n",
       "<p>497 rows × 9 columns</p>\n",
       "</div>"
      ],
      "text/plain": [
       "    PCTIMESTRING  PERIOD      SCORE  \\\n",
       "0          12:00       1       None   \n",
       "1          12:00       1       None   \n",
       "2          11:38       1       None   \n",
       "3          11:35       1       None   \n",
       "4          11:29       1       None   \n",
       "..           ...     ...        ...   \n",
       "492         0:29       4       None   \n",
       "493         0:26       4       None   \n",
       "494         0:24       4       None   \n",
       "495         0:02       4       None   \n",
       "496         0:00       4  109 - 120   \n",
       "\n",
       "                                     HOMEDESCRIPTION  \\\n",
       "0                                               None   \n",
       "1    Jump Ball Gafford vs. Wembanyama: Tip to Barnes   \n",
       "2                                               None   \n",
       "3                     Thompson REBOUND (Off:0 Def:1)   \n",
       "4              MISS Irving 24' 3PT Running Jump Shot   \n",
       "..                                               ...   \n",
       "492                                             None   \n",
       "493                                             None   \n",
       "494                  Dinwiddie REBOUND (Off:0 Def:1)   \n",
       "495            MAVERICKS Turnover: Shot Clock (T#10)   \n",
       "496                                             None   \n",
       "\n",
       "                       VISITORDESCRIPTION  TOTAL_MINUTES  HOME_SCORE  \\\n",
       "0                                    None       0.000000         0.0   \n",
       "1                                    None       0.000000         0.0   \n",
       "2           MISS Champagnie 3PT Jump Shot       0.366667         0.0   \n",
       "3                                    None       0.416667         0.0   \n",
       "4                                    None       0.516667         0.0   \n",
       "..                                    ...            ...         ...   \n",
       "492         Branham REBOUND (Off:0 Def:2)      47.516667       109.0   \n",
       "493  MISS Wesley 4' Running Reverse Layup      47.566667       109.0   \n",
       "494                                  None      47.600000       109.0   \n",
       "495                                  None      47.966667       109.0   \n",
       "496                                  None      48.000000       109.0   \n",
       "\n",
       "     AWAY_SCORE  SCORE_DIFF  \n",
       "0           0.0         0.0  \n",
       "1           0.0         0.0  \n",
       "2           0.0         0.0  \n",
       "3           0.0         0.0  \n",
       "4           0.0         0.0  \n",
       "..          ...         ...  \n",
       "492       120.0       -11.0  \n",
       "493       120.0       -11.0  \n",
       "494       120.0       -11.0  \n",
       "495       120.0       -11.0  \n",
       "496       120.0       -11.0  \n",
       "\n",
       "[497 rows x 9 columns]"
      ]
     },
     "execution_count": 32,
     "metadata": {},
     "output_type": "execute_result"
    }
   ],
   "source": [
    "play_by_play_df"
   ]
  }
 ],
 "metadata": {
  "kernelspec": {
   "display_name": "base",
   "language": "python",
   "name": "python3"
  },
  "language_info": {
   "codemirror_mode": {
    "name": "ipython",
    "version": 3
   },
   "file_extension": ".py",
   "mimetype": "text/x-python",
   "name": "python",
   "nbconvert_exporter": "python",
   "pygments_lexer": "ipython3",
   "version": "3.9.13"
  }
 },
 "nbformat": 4,
 "nbformat_minor": 2
}
